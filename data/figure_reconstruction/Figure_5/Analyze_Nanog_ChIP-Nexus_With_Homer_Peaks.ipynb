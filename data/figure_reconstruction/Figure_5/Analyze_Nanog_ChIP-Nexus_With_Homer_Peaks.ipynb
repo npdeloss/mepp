{
 "cells": [
  {
   "cell_type": "code",
   "execution_count": null,
   "metadata": {},
   "outputs": [],
   "source": [
    "import pandas as pd\n",
    "import numpy as np\n",
    "from tqdm.auto import tqdm"
   ]
  },
  {
   "cell_type": "markdown",
   "metadata": {},
   "source": [
    "# Specify HOMER 5' Peak files"
   ]
  },
  {
   "cell_type": "code",
   "execution_count": null,
   "metadata": {},
   "outputs": [],
   "source": [
    "count_cols = ['nexus']\n",
    "min_count = -1\n",
    "peaks_quantifications_filepath = 'nanog-chip-nexus-sites.bowtie2.dedup.minraw_4.txt.rlogs.txt'\n",
    "peaks_counts_filepath = 'nanog-chip-nexus-sites.bowtie2.dedup.minraw_4.txt.counts.txt'"
   ]
  },
  {
   "cell_type": "markdown",
   "metadata": {},
   "source": [
    "# Load peak quantifications"
   ]
  },
  {
   "cell_type": "code",
   "execution_count": null,
   "metadata": {},
   "outputs": [],
   "source": [
    "peak_quantifications_df = pd.read_csv(peaks_quantifications_filepath, sep = '\\t')\n",
    "cols = list(peak_quantifications_df.columns)\n",
    "peak_quantifications_df['PeakID'] = peak_quantifications_df[cols[0]]\n",
    "peak_quantifications_df['nexus'] = peak_quantifications_df[cols[-2]]\n",
    "peak_quantifications_df['patchcap'] = peak_quantifications_df[cols[-1]]\n",
    "peak_quantifications_df"
   ]
  },
  {
   "cell_type": "markdown",
   "metadata": {},
   "source": [
    "# Load peak counts"
   ]
  },
  {
   "cell_type": "code",
   "execution_count": null,
   "metadata": {},
   "outputs": [],
   "source": [
    "peak_counts_df = pd.read_csv(peaks_counts_filepath, sep = '\\t')\n",
    "cols = list(peak_counts_df.columns)\n",
    "peak_counts_df['PeakID'] = peak_counts_df[cols[0]]\n",
    "peak_counts_df['nexus'] = peak_counts_df[cols[-2]]\n",
    "peak_counts_df['patchcap'] = peak_counts_df[cols[-1]]\n",
    "peak_counts_df['sum'] = peak_counts_df[count_cols].sum(axis = 1)\n"
   ]
  },
  {
   "cell_type": "markdown",
   "metadata": {},
   "source": [
    "# Calculate Log2 Fold Change between nexus and patchcap control"
   ]
  },
  {
   "cell_type": "code",
   "execution_count": null,
   "metadata": {},
   "outputs": [],
   "source": [
    "peak_ids_with_min_count = list(peak_counts_df[peak_counts_df['sum']>=min_count]['PeakID'])"
   ]
  },
  {
   "cell_type": "code",
   "execution_count": null,
   "metadata": {},
   "outputs": [],
   "source": [
    "log2fc_df = (peak_quantifications_df.copy().set_index('PeakID')[['nexus', 'patchcap']]+peak_quantifications_df[['nexus', 'patchcap']].min().min()+1).copy()\n",
    "log2fc_df['log2fc'] = np.log2(log2fc_df['nexus']/log2fc_df['patchcap'])\n",
    "log2fc_df"
   ]
  },
  {
   "cell_type": "markdown",
   "metadata": {},
   "source": [
    "# Calculate Rank of Log2FC score, as well as sum of coverage at each peak"
   ]
  },
  {
   "cell_type": "code",
   "execution_count": null,
   "metadata": {},
   "outputs": [],
   "source": [
    "peak_quantifications_df['log2fc'] = peak_quantifications_df['PeakID'].map(log2fc_df['log2fc'].to_dict())\n",
    "peak_quantifications_df['log2fc_rank'] = peak_quantifications_df['log2fc'].rank()\n",
    "peak_quantifications_df['sum'] = peak_quantifications_df[['nexus','patchcap']].sum(axis = 1)\n",
    "peak_quantifications_df"
   ]
  },
  {
   "cell_type": "code",
   "execution_count": null,
   "metadata": {},
   "outputs": [],
   "source": [
    "peak_quantifications_df[['log2fc', 'log2fc_rank', 'sum', 'nexus']].hist(bins = 100)"
   ]
  },
  {
   "cell_type": "code",
   "execution_count": null,
   "metadata": {},
   "outputs": [],
   "source": [
    "count_cols_str = '_'.join(count_cols)"
   ]
  },
  {
   "cell_type": "markdown",
   "metadata": {},
   "source": [
    "# Score peaks by 5' coverage in nexus samples"
   ]
  },
  {
   "cell_type": "code",
   "execution_count": null,
   "metadata": {},
   "outputs": [],
   "source": [
    "score_type = 'nexus'\n",
    "genome_fa='mm10.fa'\n",
    "slop=200\n",
    "margin=5\n",
    "pval=0.05\n",
    "pval=0.0001\n",
    "bed_filepath=f'{peaks_quantifications_filepath}.min_count_{min_count}_in_{count_cols_str}.scored_by_{score_type}_nexus_vs_patchcap.bed'\n",
    "mepp_filepath=f'{bed_filepath}.slop_{slop}.margin_{margin}.pval_{pval}.mepp'\n",
    "motifs_filepath='homer.motifs.txt'\n"
   ]
  },
  {
   "cell_type": "code",
   "execution_count": null,
   "metadata": {},
   "outputs": [],
   "source": [
    "bed_df = peak_quantifications_df[['Chr','Start','End','PeakID',score_type,'Strand','sum']].sort_values(by = ['Chr', 'Start']).copy()\n",
    "bed_df.to_csv(bed_filepath, sep = '\\t', header = False, index = False)\n",
    "! wc -l {bed_filepath}\n",
    "! head {bed_filepath}"
   ]
  },
  {
   "cell_type": "markdown",
   "metadata": {},
   "source": [
    "# Download external data"
   ]
  },
  {
   "cell_type": "code",
   "execution_count": null,
   "metadata": {},
   "outputs": [],
   "source": [
    "%%bash\n",
    "# Download genome\n",
    "GENOME_URL=\"http://hgdownload.cse.ucsc.edu/goldenpath/mm10/bigZips/mm10.fa.gz\"\n",
    "wget -nc -O \"$genome_fa\".gz \"$GENOME_URL\"\n",
    "zcat \"$genome_fa\".gz > \"$genome_fa\"\n",
    "\n",
    "# Index genome\n",
    "samtools faidx \"$GENOME_FILEPATH\"\n",
    "\n",
    "# Download motifs\n",
    "wget -nc -O homer.motifs.txt https://raw.githubusercontent.com/npdeloss/mepp/main/data/homer.motifs.txt\n"
   ]
  },
  {
   "cell_type": "markdown",
   "metadata": {},
   "source": [
    "# Run MEPP Analysis\n",
    "* Start with scored bed file of 5' end peaks\n",
    "* Expand intervals to get sequences from +/- 200bp of 5' ends\n",
    "* Deduplicate clusters of overlapping intervals, keeping the one with the most coverage\n",
    "* Create scored fasta file from scored bed file\n",
    "* Analyze scored sequences with MEPP"
   ]
  },
  {
   "cell_type": "code",
   "execution_count": null,
   "metadata": {},
   "outputs": [],
   "source": [
    "mepp_cmd = (\n",
    "    f'bedtools slop -i {bed_filepath} -g {genome_fa}.fai -b {slop} '\n",
    "    f'| bedtools cluster -s -i - '\n",
    "    f'| sort -k8,8n -k7,7nr | awk \\'!a[$8]++\\' '\n",
    "    f'| bedtools sort -i - |cut -f1-6 '\n",
    "    f'| python -m mepp.get_scored_fasta -fi {genome_fa} '\n",
    "    f'-bed - '\n",
    "    f'| $(which time) --verbose python -m mepp.cli '\n",
    "    f'--fa - '\n",
    "    f'--motifs {motifs_filepath} '\n",
    "    f'--out {mepp_filepath} '\n",
    "    f'--perms 100 '\n",
    "    f'--batch 1000 '\n",
    "    f'--dgt 50 '\n",
    "    f'--jobs 15 '\n",
    "    f'--margin {margin} '\n",
    "    f'--pval {pval} '\n",
    "    f'--gjobs 15 '\n",
    "    f'--nogpu '\n",
    "    f'--dpi 100 '\n",
    "    f'--orientations +/- '\n",
    "    f'--margin {margin} '\n",
    "    f'&> {mepp_filepath}.log'\n",
    ")\n",
    "print(mepp_cmd)"
   ]
  },
  {
   "cell_type": "code",
   "execution_count": null,
   "metadata": {},
   "outputs": [],
   "source": [
    "%%time\n",
    "\n",
    "for cmd in tqdm([mepp_cmd]):\n",
    "    print(cmd)\n",
    "    ! {cmd}"
   ]
  },
  {
   "cell_type": "markdown",
   "metadata": {},
   "source": [
    "# Display links to HTML output"
   ]
  },
  {
   "cell_type": "code",
   "execution_count": null,
   "metadata": {},
   "outputs": [],
   "source": [
    "from IPython.display import display, Markdown"
   ]
  },
  {
   "cell_type": "code",
   "execution_count": null,
   "metadata": {},
   "outputs": [],
   "source": [
    "\n",
    "mepp_results_table_fwd_md = f'[Results table, + orientation]({mepp_filepath}/results_table_orientation_fwd.html)'\n",
    "mepp_clustermap_fwd_md = f'[Clustermap, + orientation]({mepp_filepath}/clustermap_orientation_fwd.html)'\n",
    "\n",
    "mepp_results_table_rev_md = f'[Results table, - orientation]({mepp_filepath}/results_table_orientation_rev.html)'\n",
    "mepp_clustermap_rev_md = f'[Clustermap, - orientation]({mepp_filepath}/clustermap_orientation_rev.html)'\n",
    "\n",
    "mepp_results_table_both_md = f'[Results table, both orientations]({mepp_filepath}/results_table_orientation_fwd-rev.html)'\n",
    "mepp_clustermap_both_md = f'[Clustermap, both orientations]({mepp_filepath}/clustermap_orientation_fwd-rev.html)'"
   ]
  },
  {
   "cell_type": "code",
   "execution_count": null,
   "metadata": {
    "tags": []
   },
   "outputs": [],
   "source": [
    "# display(Markdown(mepp_results_table_fwd_md))\n",
    "# display(Markdown(mepp_clustermap_fwd_md))\n",
    "# display(Markdown(mepp_results_table_rev_md))\n",
    "# display(Markdown(mepp_clustermap_rev_md))\n",
    "display(Markdown(mepp_results_table_both_md))\n",
    "display(Markdown(mepp_clustermap_both_md))"
   ]
  },
  {
   "cell_type": "code",
   "execution_count": null,
   "metadata": {},
   "outputs": [],
   "source": []
  }
 ],
 "metadata": {
  "kernelspec": {
   "display_name": "Python 3",
   "language": "python",
   "name": "python3"
  },
  "language_info": {
   "codemirror_mode": {
    "name": "ipython",
    "version": 3
   },
   "file_extension": ".py",
   "mimetype": "text/x-python",
   "name": "python",
   "nbconvert_exporter": "python",
   "pygments_lexer": "ipython3",
   "version": "3.6.11"
  }
 },
 "nbformat": 4,
 "nbformat_minor": 5
}
