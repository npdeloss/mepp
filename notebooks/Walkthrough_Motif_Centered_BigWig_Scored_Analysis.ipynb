{
 "cells": [
  {
   "cell_type": "markdown",
   "id": "f2e25f8e-3183-421d-9a3b-2adc6c958c41",
   "metadata": {},
   "source": [
    "# MEPP Walkthrough: Motif Enrichment Positional Profiling\n",
    "This notebook will walk you through how to perform a score based motif enrichment analysis that profiles motif enrichment at multiple positions across a set of sequences centered on biologically relevant features, in this case a central binding motif of interest. \n",
    "\n",
    "## Quickstart\n",
    "If you already have MEPP installed, have a scored BED file, and want to quickly get started, jump to the section [\"Convert scored bed file to scored sequences, and run MEPP analysis\"](#Convert-scored-bed-file-to-scored-sequences,-and-run-MEPP-analysis)"
   ]
  },
  {
   "cell_type": "markdown",
   "id": "84c79a9a-0b01-4e9d-90a1-e31210cbf964",
   "metadata": {},
   "source": [
    "# Install prerequisites\n",
    "\n",
    "You will need the following prerequisites:\n",
    "* MEPP\n",
    "* HOMER\n",
    "* pandas\n",
    "* numpy\n",
    "* gtfparse\n",
    "* coolbox\n",
    "* wget\n",
    "* samtools\n",
    "* deeptools\n",
    "* bedtools\n",
    "* bedops\n",
    "* wiggletools\n",
    "* wigToBigWig\n",
    "* bigWigToWig\n",
    "* tensorflow\n",
    "\n",
    "To install most of these through mamba:\n",
    "```\n",
    "mamba create -d -n mepp_walkthrough -c bioconda -c conda-forge homer pandas numpy gtfparse coolbox wget samtools deeptools bedtools bedops wiggletools ucsc-wigtobigwig ucsc-bigwigtowig tensorflow\n",
    "```\n",
    "\n",
    "To install most of these through conda (slower):\n",
    "```\n",
    "conda create -d -n mepp_walkthrough -c bioconda -c conda-forge homer pandas numpy coolbox wget samtools deeptools bedtools bedops wiggletools ucsc-wigtobigwig ucsc-bigwigtowig tensorflow\n",
    "```\n",
    "\n",
    "To activate the environment:\n",
    "```\n",
    "conda activate mepp_walkthrough\n",
    "```\n",
    "\n",
    "To install MEPP, use pip:\n",
    "```\n",
    "pip install git+https://github.com/npdeloss/mepp@main\n",
    "```\n",
    "\n",
    "Or, if you only have user privileges:\n",
    "```\n",
    "pip install git+https://github.com/npdeloss/mepp@main --user\n",
    "```\n",
    "\n",
    "You may need to append the following to your ~/.bashrc:\n",
    "```\n",
    "export PATH=\"$HOME/.local/bin:$PATH\"\n",
    "```"
   ]
  },
  {
   "cell_type": "markdown",
   "id": "201cf6d2-a242-4823-a107-3a0657dc70ea",
   "metadata": {},
   "source": [
    "# Import key libraries"
   ]
  },
  {
   "cell_type": "code",
   "execution_count": 1,
   "id": "ebd4344f-c08c-4773-b965-8de1f819bb51",
   "metadata": {},
   "outputs": [],
   "source": [
    "import pandas as pd\n",
    "import numpy as np"
   ]
  },
  {
   "cell_type": "markdown",
   "id": "55eed5b8-ff4c-4ffd-979c-33d82feee37a",
   "metadata": {},
   "source": [
    "# Enumerate sample sheet with alignment files for download\n",
    "Here we will be comparing K562 and HCT116 cell lines from ENCODE."
   ]
  },
  {
   "cell_type": "code",
   "execution_count": 2,
   "id": "667127b4-1d26-4edc-9b49-5bdd3701d17e",
   "metadata": {},
   "outputs": [
    {
     "name": "stdout",
     "output_type": "stream",
     "text": [
      "Overwriting k562.vs.hct116.atac-seq.samples.txt\n"
     ]
    }
   ],
   "source": [
    "%%file k562.vs.hct116.atac-seq.samples.txt\n",
    "cell_type replicate bam_url\n",
    "k562 1 https://www.encodeproject.org/files/ENCFF512VEZ/@@download/ENCFF512VEZ.bam\n",
    "k562 2 https://www.encodeproject.org/files/ENCFF987XOV/@@download/ENCFF987XOV.bam\n",
    "hct116 1 https://www.encodeproject.org/files/ENCFF724QHH/@@download/ENCFF724QHH.bam\n",
    "hct116 2 https://www.encodeproject.org/files/ENCFF927YUB/@@download/ENCFF927YUB.bam\n",
    "hepg2 1 https://www.encodeproject.org/files/ENCFF239RGZ/@@download/ENCFF239RGZ.bam\n",
    "hepg2 2 https://www.encodeproject.org/files/ENCFF394BBD/@@download/ENCFF394BBD.bam\n",
    "dnd-41 1 https://www.encodeproject.org/files/ENCFF538YYI/@@download/ENCFF538YYI.bam\n",
    "dnd-41 2 https://www.encodeproject.org/files/ENCFF080WSN/@@download/ENCFF080WSN.bam\n",
    "dnd-41 3 https://www.encodeproject.org/files/ENCFF626KDS/@@download/ENCFF626KDS.bam"
   ]
  },
  {
   "cell_type": "markdown",
   "id": "03573cae-4553-4d0b-8b5f-e320a939d806",
   "metadata": {},
   "source": [
    "# Load sample sheet"
   ]
  },
  {
   "cell_type": "code",
   "execution_count": 3,
   "id": "ee247ff7-129b-436f-a332-5771d6073c41",
   "metadata": {},
   "outputs": [],
   "source": [
    "samplesheet_filepath = 'k562.vs.hct116.atac-seq.samples.txt'\n",
    "samplesheet_sep = ' '"
   ]
  },
  {
   "cell_type": "code",
   "execution_count": 4,
   "id": "93ed8321-5a32-4f85-8cd0-f9cf7e1daf7c",
   "metadata": {},
   "outputs": [
    {
     "data": {
      "text/html": [
       "<div>\n",
       "<style scoped>\n",
       "    .dataframe tbody tr th:only-of-type {\n",
       "        vertical-align: middle;\n",
       "    }\n",
       "\n",
       "    .dataframe tbody tr th {\n",
       "        vertical-align: top;\n",
       "    }\n",
       "\n",
       "    .dataframe thead th {\n",
       "        text-align: right;\n",
       "    }\n",
       "</style>\n",
       "<table border=\"1\" class=\"dataframe\">\n",
       "  <thead>\n",
       "    <tr style=\"text-align: right;\">\n",
       "      <th></th>\n",
       "      <th>cell_type</th>\n",
       "      <th>replicate</th>\n",
       "      <th>bam_url</th>\n",
       "      <th>sample</th>\n",
       "    </tr>\n",
       "  </thead>\n",
       "  <tbody>\n",
       "    <tr>\n",
       "      <th>0</th>\n",
       "      <td>k562</td>\n",
       "      <td>1</td>\n",
       "      <td>https://www.encodeproject.org/files/ENCFF512VE...</td>\n",
       "      <td>True</td>\n",
       "    </tr>\n",
       "    <tr>\n",
       "      <th>1</th>\n",
       "      <td>k562</td>\n",
       "      <td>2</td>\n",
       "      <td>https://www.encodeproject.org/files/ENCFF987XO...</td>\n",
       "      <td>True</td>\n",
       "    </tr>\n",
       "    <tr>\n",
       "      <th>2</th>\n",
       "      <td>hct116</td>\n",
       "      <td>1</td>\n",
       "      <td>https://www.encodeproject.org/files/ENCFF724QH...</td>\n",
       "      <td>True</td>\n",
       "    </tr>\n",
       "    <tr>\n",
       "      <th>3</th>\n",
       "      <td>hct116</td>\n",
       "      <td>2</td>\n",
       "      <td>https://www.encodeproject.org/files/ENCFF927YU...</td>\n",
       "      <td>True</td>\n",
       "    </tr>\n",
       "    <tr>\n",
       "      <th>4</th>\n",
       "      <td>hepg2</td>\n",
       "      <td>1</td>\n",
       "      <td>https://www.encodeproject.org/files/ENCFF239RG...</td>\n",
       "      <td>True</td>\n",
       "    </tr>\n",
       "    <tr>\n",
       "      <th>5</th>\n",
       "      <td>hepg2</td>\n",
       "      <td>2</td>\n",
       "      <td>https://www.encodeproject.org/files/ENCFF394BB...</td>\n",
       "      <td>True</td>\n",
       "    </tr>\n",
       "    <tr>\n",
       "      <th>6</th>\n",
       "      <td>dnd-41</td>\n",
       "      <td>1</td>\n",
       "      <td>https://www.encodeproject.org/files/ENCFF538YY...</td>\n",
       "      <td>True</td>\n",
       "    </tr>\n",
       "    <tr>\n",
       "      <th>7</th>\n",
       "      <td>dnd-41</td>\n",
       "      <td>2</td>\n",
       "      <td>https://www.encodeproject.org/files/ENCFF080WS...</td>\n",
       "      <td>True</td>\n",
       "    </tr>\n",
       "    <tr>\n",
       "      <th>8</th>\n",
       "      <td>dnd-41</td>\n",
       "      <td>3</td>\n",
       "      <td>https://www.encodeproject.org/files/ENCFF626KD...</td>\n",
       "      <td>True</td>\n",
       "    </tr>\n",
       "  </tbody>\n",
       "</table>\n",
       "</div>"
      ],
      "text/plain": [
       "  cell_type  replicate                                            bam_url  \\\n",
       "0      k562          1  https://www.encodeproject.org/files/ENCFF512VE...   \n",
       "1      k562          2  https://www.encodeproject.org/files/ENCFF987XO...   \n",
       "2    hct116          1  https://www.encodeproject.org/files/ENCFF724QH...   \n",
       "3    hct116          2  https://www.encodeproject.org/files/ENCFF927YU...   \n",
       "4     hepg2          1  https://www.encodeproject.org/files/ENCFF239RG...   \n",
       "5     hepg2          2  https://www.encodeproject.org/files/ENCFF394BB...   \n",
       "6    dnd-41          1  https://www.encodeproject.org/files/ENCFF538YY...   \n",
       "7    dnd-41          2  https://www.encodeproject.org/files/ENCFF080WS...   \n",
       "8    dnd-41          3  https://www.encodeproject.org/files/ENCFF626KD...   \n",
       "\n",
       "   sample  \n",
       "0    True  \n",
       "1    True  \n",
       "2    True  \n",
       "3    True  \n",
       "4    True  \n",
       "5    True  \n",
       "6    True  \n",
       "7    True  \n",
       "8    True  "
      ]
     },
     "execution_count": 4,
     "metadata": {},
     "output_type": "execute_result"
    }
   ],
   "source": [
    "samplesheet_df = pd.read_csv(samplesheet_filepath, sep = samplesheet_sep)\n",
    "samplesheet_df['sample'] = True\n",
    "samplesheet_df"
   ]
  },
  {
   "cell_type": "markdown",
   "id": "8270b032-1097-4a58-9cb3-c72228a1f2c1",
   "metadata": {},
   "source": [
    "# Download Alignment files"
   ]
  },
  {
   "cell_type": "code",
   "execution_count": 5,
   "id": "5b13a1cb-e451-4e7d-8edd-029258c2e001",
   "metadata": {},
   "outputs": [],
   "source": [
    "samplesheet_df['basename'] = samplesheet_df['cell_type'] + '_rep' + samplesheet_df['replicate'].astype(str)\n",
    "samplesheet_df['bam_filepath'] = samplesheet_df['basename'] + '.bam'"
   ]
  },
  {
   "cell_type": "code",
   "execution_count": 6,
   "id": "f559c495-0125-4a61-8e69-bc4c1f233698",
   "metadata": {},
   "outputs": [],
   "source": [
    "samplesheet_df['wget_bam_cmd'] = (\n",
    "    'wget -nc -O ' +\n",
    "    samplesheet_df['bam_filepath'] + ' ' +\n",
    "    '\"' + samplesheet_df['bam_url'] + '\"'\n",
    ")"
   ]
  },
  {
   "cell_type": "code",
   "execution_count": 7,
   "id": "30b3d3ab-82e4-45a5-874b-e6457f59afc4",
   "metadata": {
    "tags": []
   },
   "outputs": [
    {
     "name": "stdout",
     "output_type": "stream",
     "text": [
      "wget -nc -O k562_rep1.bam \"https://www.encodeproject.org/files/ENCFF512VEZ/@@download/ENCFF512VEZ.bam\"\n",
      "File ‘k562_rep1.bam’ already there; not retrieving.\n",
      "wget -nc -O k562_rep2.bam \"https://www.encodeproject.org/files/ENCFF987XOV/@@download/ENCFF987XOV.bam\"\n",
      "File ‘k562_rep2.bam’ already there; not retrieving.\n",
      "wget -nc -O hct116_rep1.bam \"https://www.encodeproject.org/files/ENCFF724QHH/@@download/ENCFF724QHH.bam\"\n",
      "File ‘hct116_rep1.bam’ already there; not retrieving.\n",
      "wget -nc -O hct116_rep2.bam \"https://www.encodeproject.org/files/ENCFF927YUB/@@download/ENCFF927YUB.bam\"\n",
      "File ‘hct116_rep2.bam’ already there; not retrieving.\n",
      "wget -nc -O hepg2_rep1.bam \"https://www.encodeproject.org/files/ENCFF239RGZ/@@download/ENCFF239RGZ.bam\"\n",
      "File ‘hepg2_rep1.bam’ already there; not retrieving.\n",
      "wget -nc -O hepg2_rep2.bam \"https://www.encodeproject.org/files/ENCFF394BBD/@@download/ENCFF394BBD.bam\"\n",
      "File ‘hepg2_rep2.bam’ already there; not retrieving.\n",
      "wget -nc -O dnd-41_rep1.bam \"https://www.encodeproject.org/files/ENCFF538YYI/@@download/ENCFF538YYI.bam\"\n",
      "File ‘dnd-41_rep1.bam’ already there; not retrieving.\n",
      "wget -nc -O dnd-41_rep2.bam \"https://www.encodeproject.org/files/ENCFF080WSN/@@download/ENCFF080WSN.bam\"\n",
      "File ‘dnd-41_rep2.bam’ already there; not retrieving.\n",
      "wget -nc -O dnd-41_rep3.bam \"https://www.encodeproject.org/files/ENCFF626KDS/@@download/ENCFF626KDS.bam\"\n",
      "File ‘dnd-41_rep3.bam’ already there; not retrieving.\n",
      "CPU times: user 23.6 ms, sys: 26.2 ms, total: 49.9 ms\n",
      "Wall time: 1.21 s\n"
     ]
    }
   ],
   "source": [
    "%%time\n",
    "\n",
    "run_wget_bam_cmds = run_cmd = True\n",
    "for cmd in list(samplesheet_df['wget_bam_cmd']):\n",
    "    print(cmd)\n",
    "    if run_cmd:\n",
    "        ! {cmd}"
   ]
  },
  {
   "cell_type": "markdown",
   "id": "abfadf77-6e55-40e8-a3ae-875aa0b3d934",
   "metadata": {},
   "source": [
    "# Index alignment files\n",
    "Necessary to generate bigWig files"
   ]
  },
  {
   "cell_type": "code",
   "execution_count": 8,
   "id": "714c3208-92b0-4850-a6d3-8b997b9e9a3e",
   "metadata": {},
   "outputs": [],
   "source": [
    "index_bam_threads = 8\n",
    "samplesheet_df['index_bam_cmd'] = (\n",
    "    'samtools index ' +\n",
    "    samplesheet_df['bam_filepath']\n",
    ")"
   ]
  },
  {
   "cell_type": "code",
   "execution_count": 9,
   "id": "5dd876eb-4bf3-49eb-beb0-389e8a65ea5e",
   "metadata": {},
   "outputs": [
    {
     "name": "stdout",
     "output_type": "stream",
     "text": [
      "samtools index k562_rep1.bam\n",
      "samtools index k562_rep2.bam\n",
      "samtools index hct116_rep1.bam\n",
      "samtools index hct116_rep2.bam\n",
      "samtools index hepg2_rep1.bam\n",
      "samtools index hepg2_rep2.bam\n",
      "samtools index dnd-41_rep1.bam\n",
      "samtools index dnd-41_rep2.bam\n",
      "samtools index dnd-41_rep3.bam\n",
      "CPU times: user 1.88 s, sys: 451 ms, total: 2.33 s\n",
      "Wall time: 3min 27s\n"
     ]
    }
   ],
   "source": [
    "%%time\n",
    "\n",
    "run_index_bam_cmds = run_cmd = True\n",
    "for cmd in list(samplesheet_df['index_bam_cmd']):\n",
    "    print(cmd)\n",
    "    if run_cmd:\n",
    "        ! {cmd}"
   ]
  },
  {
   "cell_type": "markdown",
   "id": "ea3505df-ba66-452b-93d0-f233a884420b",
   "metadata": {},
   "source": [
    "# Compute coverage bigWig files from alignment files\n",
    "You will need to use [effective genome size](https://deeptools.readthedocs.io/en/latest/content/feature/effectiveGenomeSize.html) numbers for the relevant genome.\n",
    "You could also use other normalizations of choice at this step. Here we use the deeptools `bamCoverage` defaults.\n",
    "These will allow you to later visualize and quantify calculations on this coverage data."
   ]
  },
  {
   "cell_type": "code",
   "execution_count": 10,
   "id": "dce46351-8394-465d-a798-b7536581d3c5",
   "metadata": {},
   "outputs": [],
   "source": [
    "effective_genome_size = 2913022398\n",
    "bamcoverage_binsize = 10\n",
    "bamcoverage_threads = 'max/2'\n",
    "# Value for GRCh38, from:\n",
    "# https://deeptools.readthedocs.io/en/latest/content/feature/effectiveGenomeSize.html"
   ]
  },
  {
   "cell_type": "code",
   "execution_count": 11,
   "id": "e2dc7c21-5bc0-4d8e-ae2e-9d05d82800aa",
   "metadata": {},
   "outputs": [],
   "source": [
    "samplesheet_df['bw_filepath'] = samplesheet_df['basename'] + '.bw'\n",
    "samplesheet_df['raw_bw_filepath'] = samplesheet_df['basename'] + '.raw.bw'"
   ]
  },
  {
   "cell_type": "code",
   "execution_count": 12,
   "id": "42725da3-612d-4647-b43d-32e229bfea4d",
   "metadata": {},
   "outputs": [],
   "source": [
    "samplesheet_df['bamcoverage_cmd'] = (\n",
    "    f'bamCoverage ' + \n",
    "    f' -p {bamcoverage_threads} ' + \n",
    "    f' --effectiveGenomeSize {effective_genome_size} ' + \n",
    "    f' --normalizeUsing RPKM '\n",
    "    f' -bs {bamcoverage_binsize}'\n",
    "    f' -b ' + samplesheet_df['bam_filepath'] + \n",
    "    f' -o ' + samplesheet_df['bw_filepath']\n",
    ")\n",
    "\n",
    "samplesheet_df['bamcoverage_raw_cmd'] = (\n",
    "    f'bamCoverage ' + \n",
    "    f' -p {bamcoverage_threads} ' + \n",
    "    f' --effectiveGenomeSize {effective_genome_size} ' + \n",
    "    f' --normalizeUsing None '\n",
    "    f' -bs {bamcoverage_binsize}'\n",
    "    f' -b ' + samplesheet_df['bam_filepath'] + \n",
    "    f' -o ' + samplesheet_df['raw_bw_filepath']\n",
    ")\n",
    "\n",
    "bamcoverage_cmds = list(samplesheet_df['bamcoverage_cmd']) + list(samplesheet_df['bamcoverage_raw_cmd'])"
   ]
  },
  {
   "cell_type": "code",
   "execution_count": 13,
   "id": "23451f55-cd66-41b9-93d7-56c9e95320a3",
   "metadata": {
    "tags": []
   },
   "outputs": [
    {
     "name": "stdout",
     "output_type": "stream",
     "text": [
      "bamCoverage  -p max/2  --effectiveGenomeSize 2913022398  --normalizeUsing RPKM  -bs 10 -b k562_rep1.bam -o k562_rep1.bw\n",
      "normalization: RPKM\n",
      "bamFilesList: ['k562_rep1.bam']\n",
      "binLength: 10\n",
      "numberOfSamples: None\n",
      "blackListFileName: None\n",
      "skipZeroOverZero: False\n",
      "bed_and_bin: False\n",
      "genomeChunkSize: None\n",
      "defaultFragmentLength: read length\n",
      "numberOfProcessors: 28\n",
      "verbose: False\n",
      "region: None\n",
      "bedFile: None\n",
      "minMappingQuality: None\n",
      "ignoreDuplicates: False\n",
      "chrsToSkip: []\n",
      "stepSize: 10\n",
      "center_read: False\n",
      "samFlag_include: None\n",
      "samFlag_exclude: None\n",
      "minFragmentLength: 0\n",
      "maxFragmentLength: 0\n",
      "zerosToNans: False\n",
      "smoothLength: None\n",
      "save_data: False\n",
      "out_file_for_raw_data: None\n",
      "maxPairedFragmentLength: 1000\n",
      "bamCoverage  -p max/2  --effectiveGenomeSize 2913022398  --normalizeUsing RPKM  -bs 10 -b k562_rep2.bam -o k562_rep2.bw\n",
      "normalization: RPKM\n",
      "bamFilesList: ['k562_rep2.bam']\n",
      "binLength: 10\n",
      "numberOfSamples: None\n",
      "blackListFileName: None\n",
      "skipZeroOverZero: False\n",
      "bed_and_bin: False\n",
      "genomeChunkSize: None\n",
      "defaultFragmentLength: read length\n",
      "numberOfProcessors: 28\n",
      "verbose: False\n",
      "region: None\n",
      "bedFile: None\n",
      "minMappingQuality: None\n",
      "ignoreDuplicates: False\n",
      "chrsToSkip: []\n",
      "stepSize: 10\n",
      "center_read: False\n",
      "samFlag_include: None\n",
      "samFlag_exclude: None\n",
      "minFragmentLength: 0\n",
      "maxFragmentLength: 0\n",
      "zerosToNans: False\n",
      "smoothLength: None\n",
      "save_data: False\n",
      "out_file_for_raw_data: None\n",
      "maxPairedFragmentLength: 1000\n",
      "bamCoverage  -p max/2  --effectiveGenomeSize 2913022398  --normalizeUsing RPKM  -bs 10 -b hct116_rep1.bam -o hct116_rep1.bw\n",
      "normalization: RPKM\n",
      "bamFilesList: ['hct116_rep1.bam']\n",
      "binLength: 10\n",
      "numberOfSamples: None\n",
      "blackListFileName: None\n",
      "skipZeroOverZero: False\n",
      "bed_and_bin: False\n",
      "genomeChunkSize: None\n",
      "defaultFragmentLength: read length\n",
      "numberOfProcessors: 28\n",
      "verbose: False\n",
      "region: None\n",
      "bedFile: None\n",
      "minMappingQuality: None\n",
      "ignoreDuplicates: False\n",
      "chrsToSkip: []\n",
      "stepSize: 10\n",
      "center_read: False\n",
      "samFlag_include: None\n",
      "samFlag_exclude: None\n",
      "minFragmentLength: 0\n",
      "maxFragmentLength: 0\n",
      "zerosToNans: False\n",
      "smoothLength: None\n",
      "save_data: False\n",
      "out_file_for_raw_data: None\n",
      "maxPairedFragmentLength: 1000\n",
      "bamCoverage  -p max/2  --effectiveGenomeSize 2913022398  --normalizeUsing RPKM  -bs 10 -b hct116_rep2.bam -o hct116_rep2.bw\n",
      "normalization: RPKM\n",
      "bamFilesList: ['hct116_rep2.bam']\n",
      "binLength: 10\n",
      "numberOfSamples: None\n",
      "blackListFileName: None\n",
      "skipZeroOverZero: False\n",
      "bed_and_bin: False\n",
      "genomeChunkSize: None\n",
      "defaultFragmentLength: read length\n",
      "numberOfProcessors: 28\n",
      "verbose: False\n",
      "region: None\n",
      "bedFile: None\n",
      "minMappingQuality: None\n",
      "ignoreDuplicates: False\n",
      "chrsToSkip: []\n",
      "stepSize: 10\n",
      "center_read: False\n",
      "samFlag_include: None\n",
      "samFlag_exclude: None\n",
      "minFragmentLength: 0\n",
      "maxFragmentLength: 0\n",
      "zerosToNans: False\n",
      "smoothLength: None\n",
      "save_data: False\n",
      "out_file_for_raw_data: None\n",
      "maxPairedFragmentLength: 1000\n",
      "bamCoverage  -p max/2  --effectiveGenomeSize 2913022398  --normalizeUsing RPKM  -bs 10 -b hepg2_rep1.bam -o hepg2_rep1.bw\n",
      "normalization: RPKM\n",
      "bamFilesList: ['hepg2_rep1.bam']\n",
      "binLength: 10\n",
      "numberOfSamples: None\n",
      "blackListFileName: None\n",
      "skipZeroOverZero: False\n",
      "bed_and_bin: False\n",
      "genomeChunkSize: None\n",
      "defaultFragmentLength: read length\n",
      "numberOfProcessors: 28\n",
      "verbose: False\n",
      "region: None\n",
      "bedFile: None\n",
      "minMappingQuality: None\n",
      "ignoreDuplicates: False\n",
      "chrsToSkip: []\n",
      "stepSize: 10\n",
      "center_read: False\n",
      "samFlag_include: None\n",
      "samFlag_exclude: None\n",
      "minFragmentLength: 0\n",
      "maxFragmentLength: 0\n",
      "zerosToNans: False\n",
      "smoothLength: None\n",
      "save_data: False\n",
      "out_file_for_raw_data: None\n",
      "maxPairedFragmentLength: 1000\n",
      "bamCoverage  -p max/2  --effectiveGenomeSize 2913022398  --normalizeUsing RPKM  -bs 10 -b hepg2_rep2.bam -o hepg2_rep2.bw\n",
      "normalization: RPKM\n",
      "bamFilesList: ['hepg2_rep2.bam']\n",
      "binLength: 10\n",
      "numberOfSamples: None\n",
      "blackListFileName: None\n",
      "skipZeroOverZero: False\n",
      "bed_and_bin: False\n",
      "genomeChunkSize: None\n",
      "defaultFragmentLength: read length\n",
      "numberOfProcessors: 28\n",
      "verbose: False\n",
      "region: None\n",
      "bedFile: None\n",
      "minMappingQuality: None\n",
      "ignoreDuplicates: False\n",
      "chrsToSkip: []\n",
      "stepSize: 10\n",
      "center_read: False\n",
      "samFlag_include: None\n",
      "samFlag_exclude: None\n",
      "minFragmentLength: 0\n",
      "maxFragmentLength: 0\n",
      "zerosToNans: False\n",
      "smoothLength: None\n",
      "save_data: False\n",
      "out_file_for_raw_data: None\n",
      "maxPairedFragmentLength: 1000\n",
      "bamCoverage  -p max/2  --effectiveGenomeSize 2913022398  --normalizeUsing RPKM  -bs 10 -b dnd-41_rep1.bam -o dnd-41_rep1.bw\n",
      "normalization: RPKM\n",
      "bamFilesList: ['dnd-41_rep1.bam']\n",
      "binLength: 10\n",
      "numberOfSamples: None\n",
      "blackListFileName: None\n",
      "skipZeroOverZero: False\n",
      "bed_and_bin: False\n",
      "genomeChunkSize: None\n",
      "defaultFragmentLength: read length\n",
      "numberOfProcessors: 28\n",
      "verbose: False\n",
      "region: None\n",
      "bedFile: None\n",
      "minMappingQuality: None\n",
      "ignoreDuplicates: False\n",
      "chrsToSkip: []\n",
      "stepSize: 10\n",
      "center_read: False\n",
      "samFlag_include: None\n",
      "samFlag_exclude: None\n",
      "minFragmentLength: 0\n",
      "maxFragmentLength: 0\n",
      "zerosToNans: False\n",
      "smoothLength: None\n",
      "save_data: False\n",
      "out_file_for_raw_data: None\n",
      "maxPairedFragmentLength: 1000\n",
      "bamCoverage  -p max/2  --effectiveGenomeSize 2913022398  --normalizeUsing RPKM  -bs 10 -b dnd-41_rep2.bam -o dnd-41_rep2.bw\n",
      "normalization: RPKM\n",
      "bamFilesList: ['dnd-41_rep2.bam']\n",
      "binLength: 10\n",
      "numberOfSamples: None\n",
      "blackListFileName: None\n",
      "skipZeroOverZero: False\n",
      "bed_and_bin: False\n",
      "genomeChunkSize: None\n",
      "defaultFragmentLength: read length\n",
      "numberOfProcessors: 28\n",
      "verbose: False\n",
      "region: None\n",
      "bedFile: None\n",
      "minMappingQuality: None\n",
      "ignoreDuplicates: False\n",
      "chrsToSkip: []\n",
      "stepSize: 10\n",
      "center_read: False\n",
      "samFlag_include: None\n",
      "samFlag_exclude: None\n",
      "minFragmentLength: 0\n",
      "maxFragmentLength: 0\n",
      "zerosToNans: False\n",
      "smoothLength: None\n",
      "save_data: False\n",
      "out_file_for_raw_data: None\n",
      "maxPairedFragmentLength: 1000\n",
      "bamCoverage  -p max/2  --effectiveGenomeSize 2913022398  --normalizeUsing RPKM  -bs 10 -b dnd-41_rep3.bam -o dnd-41_rep3.bw\n",
      "normalization: RPKM\n",
      "bamFilesList: ['dnd-41_rep3.bam']\n",
      "binLength: 10\n",
      "numberOfSamples: None\n",
      "blackListFileName: None\n",
      "skipZeroOverZero: False\n",
      "bed_and_bin: False\n",
      "genomeChunkSize: None\n",
      "defaultFragmentLength: read length\n",
      "numberOfProcessors: 28\n",
      "verbose: False\n",
      "region: None\n",
      "bedFile: None\n",
      "minMappingQuality: None\n",
      "ignoreDuplicates: False\n",
      "chrsToSkip: []\n",
      "stepSize: 10\n",
      "center_read: False\n",
      "samFlag_include: None\n",
      "samFlag_exclude: None\n",
      "minFragmentLength: 0\n",
      "maxFragmentLength: 0\n",
      "zerosToNans: False\n",
      "smoothLength: None\n",
      "save_data: False\n",
      "out_file_for_raw_data: None\n",
      "maxPairedFragmentLength: 1000\n",
      "bamCoverage  -p max/2  --effectiveGenomeSize 2913022398  --normalizeUsing None  -bs 10 -b k562_rep1.bam -o k562_rep1.raw.bw\n",
      "bamFilesList: ['k562_rep1.bam']\n",
      "binLength: 10\n",
      "numberOfSamples: None\n",
      "blackListFileName: None\n",
      "skipZeroOverZero: False\n",
      "bed_and_bin: False\n",
      "genomeChunkSize: None\n",
      "defaultFragmentLength: read length\n",
      "numberOfProcessors: 28\n",
      "verbose: False\n",
      "region: None\n",
      "bedFile: None\n",
      "minMappingQuality: None\n",
      "ignoreDuplicates: False\n",
      "chrsToSkip: []\n",
      "stepSize: 10\n",
      "center_read: False\n",
      "samFlag_include: None\n",
      "samFlag_exclude: None\n",
      "minFragmentLength: 0\n",
      "maxFragmentLength: 0\n",
      "zerosToNans: False\n",
      "smoothLength: None\n",
      "save_data: False\n",
      "out_file_for_raw_data: None\n",
      "maxPairedFragmentLength: 1000\n",
      "bamCoverage  -p max/2  --effectiveGenomeSize 2913022398  --normalizeUsing None  -bs 10 -b k562_rep2.bam -o k562_rep2.raw.bw\n",
      "bamFilesList: ['k562_rep2.bam']\n",
      "binLength: 10\n",
      "numberOfSamples: None\n",
      "blackListFileName: None\n",
      "skipZeroOverZero: False\n",
      "bed_and_bin: False\n",
      "genomeChunkSize: None\n",
      "defaultFragmentLength: read length\n",
      "numberOfProcessors: 28\n",
      "verbose: False\n",
      "region: None\n",
      "bedFile: None\n",
      "minMappingQuality: None\n",
      "ignoreDuplicates: False\n",
      "chrsToSkip: []\n",
      "stepSize: 10\n",
      "center_read: False\n",
      "samFlag_include: None\n",
      "samFlag_exclude: None\n",
      "minFragmentLength: 0\n",
      "maxFragmentLength: 0\n",
      "zerosToNans: False\n",
      "smoothLength: None\n",
      "save_data: False\n",
      "out_file_for_raw_data: None\n",
      "maxPairedFragmentLength: 1000\n",
      "bamCoverage  -p max/2  --effectiveGenomeSize 2913022398  --normalizeUsing None  -bs 10 -b hct116_rep1.bam -o hct116_rep1.raw.bw\n",
      "bamFilesList: ['hct116_rep1.bam']\n",
      "binLength: 10\n",
      "numberOfSamples: None\n",
      "blackListFileName: None\n",
      "skipZeroOverZero: False\n",
      "bed_and_bin: False\n",
      "genomeChunkSize: None\n",
      "defaultFragmentLength: read length\n",
      "numberOfProcessors: 28\n",
      "verbose: False\n",
      "region: None\n",
      "bedFile: None\n",
      "minMappingQuality: None\n",
      "ignoreDuplicates: False\n",
      "chrsToSkip: []\n",
      "stepSize: 10\n",
      "center_read: False\n",
      "samFlag_include: None\n",
      "samFlag_exclude: None\n",
      "minFragmentLength: 0\n",
      "maxFragmentLength: 0\n",
      "zerosToNans: False\n",
      "smoothLength: None\n",
      "save_data: False\n",
      "out_file_for_raw_data: None\n",
      "maxPairedFragmentLength: 1000\n",
      "bamCoverage  -p max/2  --effectiveGenomeSize 2913022398  --normalizeUsing None  -bs 10 -b hct116_rep2.bam -o hct116_rep2.raw.bw\n",
      "bamFilesList: ['hct116_rep2.bam']\n",
      "binLength: 10\n",
      "numberOfSamples: None\n",
      "blackListFileName: None\n",
      "skipZeroOverZero: False\n",
      "bed_and_bin: False\n",
      "genomeChunkSize: None\n",
      "defaultFragmentLength: read length\n",
      "numberOfProcessors: 28\n",
      "verbose: False\n",
      "region: None\n",
      "bedFile: None\n",
      "minMappingQuality: None\n",
      "ignoreDuplicates: False\n",
      "chrsToSkip: []\n",
      "stepSize: 10\n",
      "center_read: False\n",
      "samFlag_include: None\n",
      "samFlag_exclude: None\n",
      "minFragmentLength: 0\n",
      "maxFragmentLength: 0\n",
      "zerosToNans: False\n",
      "smoothLength: None\n",
      "save_data: False\n",
      "out_file_for_raw_data: None\n",
      "maxPairedFragmentLength: 1000\n",
      "bamCoverage  -p max/2  --effectiveGenomeSize 2913022398  --normalizeUsing None  -bs 10 -b hepg2_rep1.bam -o hepg2_rep1.raw.bw\n",
      "bamFilesList: ['hepg2_rep1.bam']\n",
      "binLength: 10\n",
      "numberOfSamples: None\n",
      "blackListFileName: None\n",
      "skipZeroOverZero: False\n",
      "bed_and_bin: False\n",
      "genomeChunkSize: None\n",
      "defaultFragmentLength: read length\n",
      "numberOfProcessors: 28\n",
      "verbose: False\n",
      "region: None\n",
      "bedFile: None\n",
      "minMappingQuality: None\n",
      "ignoreDuplicates: False\n",
      "chrsToSkip: []\n",
      "stepSize: 10\n",
      "center_read: False\n",
      "samFlag_include: None\n",
      "samFlag_exclude: None\n",
      "minFragmentLength: 0\n",
      "maxFragmentLength: 0\n",
      "zerosToNans: False\n",
      "smoothLength: None\n",
      "save_data: False\n",
      "out_file_for_raw_data: None\n",
      "maxPairedFragmentLength: 1000\n",
      "bamCoverage  -p max/2  --effectiveGenomeSize 2913022398  --normalizeUsing None  -bs 10 -b hepg2_rep2.bam -o hepg2_rep2.raw.bw\n",
      "bamFilesList: ['hepg2_rep2.bam']\n",
      "binLength: 10\n",
      "numberOfSamples: None\n",
      "blackListFileName: None\n",
      "skipZeroOverZero: False\n",
      "bed_and_bin: False\n",
      "genomeChunkSize: None\n",
      "defaultFragmentLength: read length\n",
      "numberOfProcessors: 28\n",
      "verbose: False\n",
      "region: None\n",
      "bedFile: None\n",
      "minMappingQuality: None\n",
      "ignoreDuplicates: False\n",
      "chrsToSkip: []\n",
      "stepSize: 10\n",
      "center_read: False\n",
      "samFlag_include: None\n",
      "samFlag_exclude: None\n",
      "minFragmentLength: 0\n",
      "maxFragmentLength: 0\n",
      "zerosToNans: False\n",
      "smoothLength: None\n",
      "save_data: False\n",
      "out_file_for_raw_data: None\n",
      "maxPairedFragmentLength: 1000\n",
      "bamCoverage  -p max/2  --effectiveGenomeSize 2913022398  --normalizeUsing None  -bs 10 -b dnd-41_rep1.bam -o dnd-41_rep1.raw.bw\n",
      "bamFilesList: ['dnd-41_rep1.bam']\n",
      "binLength: 10\n",
      "numberOfSamples: None\n",
      "blackListFileName: None\n",
      "skipZeroOverZero: False\n",
      "bed_and_bin: False\n",
      "genomeChunkSize: None\n",
      "defaultFragmentLength: read length\n",
      "numberOfProcessors: 28\n",
      "verbose: False\n",
      "region: None\n",
      "bedFile: None\n",
      "minMappingQuality: None\n",
      "ignoreDuplicates: False\n",
      "chrsToSkip: []\n",
      "stepSize: 10\n",
      "center_read: False\n",
      "samFlag_include: None\n",
      "samFlag_exclude: None\n",
      "minFragmentLength: 0\n",
      "maxFragmentLength: 0\n",
      "zerosToNans: False\n",
      "smoothLength: None\n",
      "save_data: False\n",
      "out_file_for_raw_data: None\n",
      "maxPairedFragmentLength: 1000\n",
      "bamCoverage  -p max/2  --effectiveGenomeSize 2913022398  --normalizeUsing None  -bs 10 -b dnd-41_rep2.bam -o dnd-41_rep2.raw.bw\n",
      "bamFilesList: ['dnd-41_rep2.bam']\n",
      "binLength: 10\n",
      "numberOfSamples: None\n",
      "blackListFileName: None\n",
      "skipZeroOverZero: False\n",
      "bed_and_bin: False\n",
      "genomeChunkSize: None\n",
      "defaultFragmentLength: read length\n",
      "numberOfProcessors: 28\n",
      "verbose: False\n",
      "region: None\n",
      "bedFile: None\n",
      "minMappingQuality: None\n",
      "ignoreDuplicates: False\n",
      "chrsToSkip: []\n",
      "stepSize: 10\n",
      "center_read: False\n",
      "samFlag_include: None\n",
      "samFlag_exclude: None\n",
      "minFragmentLength: 0\n",
      "maxFragmentLength: 0\n",
      "zerosToNans: False\n",
      "smoothLength: None\n",
      "save_data: False\n",
      "out_file_for_raw_data: None\n",
      "maxPairedFragmentLength: 1000\n",
      "bamCoverage  -p max/2  --effectiveGenomeSize 2913022398  --normalizeUsing None  -bs 10 -b dnd-41_rep3.bam -o dnd-41_rep3.raw.bw\n",
      "bamFilesList: ['dnd-41_rep3.bam']\n",
      "binLength: 10\n",
      "numberOfSamples: None\n",
      "blackListFileName: None\n",
      "skipZeroOverZero: False\n",
      "bed_and_bin: False\n",
      "genomeChunkSize: None\n",
      "defaultFragmentLength: read length\n",
      "numberOfProcessors: 28\n",
      "verbose: False\n",
      "region: None\n",
      "bedFile: None\n",
      "minMappingQuality: None\n",
      "ignoreDuplicates: False\n",
      "chrsToSkip: []\n",
      "stepSize: 10\n",
      "center_read: False\n",
      "samFlag_include: None\n",
      "samFlag_exclude: None\n",
      "minFragmentLength: 0\n",
      "maxFragmentLength: 0\n",
      "zerosToNans: False\n",
      "smoothLength: None\n",
      "save_data: False\n",
      "out_file_for_raw_data: None\n",
      "maxPairedFragmentLength: 1000\n",
      "CPU times: user 23.5 s, sys: 5.09 s, total: 28.6 s\n",
      "Wall time: 38min 9s\n"
     ]
    }
   ],
   "source": [
    "%%time\n",
    "\n",
    "run_bamcoverage_cmds = run_cmd = True\n",
    "for cmd in bamcoverage_cmds:\n",
    "    print(cmd)\n",
    "    if run_cmd:\n",
    "        ! {cmd}"
   ]
  },
  {
   "cell_type": "markdown",
   "id": "b25f5994-c223-4d61-b18d-8209e8f1e3ac",
   "metadata": {},
   "source": [
    "# Download reference genome\n",
    "Also generate index and chromosome size files for bedtools and wigToBigWig"
   ]
  },
  {
   "cell_type": "code",
   "execution_count": 14,
   "id": "a7d2ffb4-53dc-481b-9036-0c61b9629f4a",
   "metadata": {},
   "outputs": [],
   "source": [
    "genome_fa_filepath = 'hg38.fa'\n",
    "genome_fai_filepath = f'{genome_fa_filepath}.fai'\n",
    "genome_chromsizes_filepath = f'{genome_fa_filepath}.chromsizes.tab'\n",
    "genome_fa_gz_url = 'https://hgdownload.soe.ucsc.edu/goldenPath/hg38/bigZips/latest/hg38.fa.masked.gz'"
   ]
  },
  {
   "cell_type": "code",
   "execution_count": 15,
   "id": "13410ecd-5042-4aeb-becb-731a84630dae",
   "metadata": {},
   "outputs": [],
   "source": [
    "download_genome_fa_cmd = f'wget -nc -O {genome_fa_filepath}.gz \"{genome_fa_gz_url}\"; zcat {genome_fa_filepath}.gz > {genome_fa_filepath}'"
   ]
  },
  {
   "cell_type": "code",
   "execution_count": 16,
   "id": "b03a18ea-b60d-4080-b3d8-5859c24c2124",
   "metadata": {},
   "outputs": [],
   "source": [
    "index_genome_fa_cmd = f'samtools faidx {genome_fa_filepath}'\n",
    "genome_chromsizes_cmd = f'cut -f1,2 {genome_fai_filepath} > {genome_chromsizes_filepath}'"
   ]
  },
  {
   "cell_type": "code",
   "execution_count": 17,
   "id": "39a2ddff-6dcd-46d9-9854-6299b7ff89c8",
   "metadata": {},
   "outputs": [
    {
     "name": "stdout",
     "output_type": "stream",
     "text": [
      "wget -nc -O hg38.fa.gz \"https://hgdownload.soe.ucsc.edu/goldenPath/hg38/bigZips/latest/hg38.fa.masked.gz\"; zcat hg38.fa.gz > hg38.fa\n",
      "File ‘hg38.fa.gz’ already there; not retrieving.\n",
      "samtools faidx hg38.fa\n",
      "cut -f1,2 hg38.fa.fai > hg38.fa.chromsizes.tab\n",
      "CPU times: user 277 ms, sys: 87.4 ms, total: 365 ms\n",
      "Wall time: 31.2 s\n"
     ]
    }
   ],
   "source": [
    "%%time\n",
    "\n",
    "run_download_genome_fa_cmd = run_cmd = True\n",
    "for cmd in [download_genome_fa_cmd, index_genome_fa_cmd, genome_chromsizes_cmd]:\n",
    "    print(cmd)\n",
    "    if run_cmd:\n",
    "        ! {cmd}"
   ]
  },
  {
   "cell_type": "markdown",
   "id": "6e77dee5-fbde-45c7-8049-07e634fb85c5",
   "metadata": {},
   "source": [
    "# Designate comparison\n",
    "Here we compare HCT116 vs. K562 cells. Comparison groups are designated by the `cell_type` column."
   ]
  },
  {
   "cell_type": "code",
   "execution_count": 18,
   "id": "ef218e4d-482f-4ba3-9c9b-241d5249756f",
   "metadata": {},
   "outputs": [],
   "source": [
    "group_1  = 'hct116'\n",
    "group_2  = 'k562'\n",
    "\n",
    "group_column = 'cell_type'\n",
    "sample_column = 'sample'\n",
    "sort_column = 'replicate'\n",
    "\n",
    "comparison_prefix = f'{group_1}.vs.{group_2}'\n"
   ]
  },
  {
   "cell_type": "code",
   "execution_count": 19,
   "id": "7bb525c4-de1d-4ba7-898a-c54c03027bab",
   "metadata": {},
   "outputs": [
    {
     "name": "stdout",
     "output_type": "stream",
     "text": [
      "hct116.vs.k562\n"
     ]
    }
   ],
   "source": [
    "print(comparison_prefix)"
   ]
  },
  {
   "cell_type": "markdown",
   "id": "227de0fa-c04d-43cb-b700-a6ec5a0635e6",
   "metadata": {},
   "source": [
    "# List bigwigs belonging to each group"
   ]
  },
  {
   "cell_type": "code",
   "execution_count": 20,
   "id": "51771554-b11a-44bd-be0f-047189e8d4d3",
   "metadata": {},
   "outputs": [],
   "source": [
    "sample_subset_df = samplesheet_df[samplesheet_df[sample_column]].sort_values(by = sort_column).copy()\n",
    "\n",
    "group_1_sample_bw_filepaths = list(sample_subset_df[sample_subset_df[group_column] == group_1]['bw_filepath'])\n",
    "group_2_sample_bw_filepaths = list(sample_subset_df[sample_subset_df[group_column] == group_2]['bw_filepath'])\n",
    "sample_bw_filepaths = group_1_sample_bw_filepaths + group_2_sample_bw_filepaths\n",
    "group_1_sample_bw_filepaths_str = ' '.join(group_1_sample_bw_filepaths)\n",
    "group_2_sample_bw_filepaths_str = ' '.join(group_2_sample_bw_filepaths)\n",
    "sample_bw_filepaths_str = ' '.join(sample_bw_filepaths)\n",
    "\n",
    "group_1_sample_raw_bw_filepaths = list(sample_subset_df[sample_subset_df[group_column] == group_1]['raw_bw_filepath'])\n",
    "group_2_sample_raw_bw_filepaths = list(sample_subset_df[sample_subset_df[group_column] == group_2]['raw_bw_filepath'])\n",
    "sample_raw_bw_filepaths = group_1_sample_raw_bw_filepaths + group_2_sample_raw_bw_filepaths\n",
    "group_1_sample_raw_bw_filepaths_str = ' '.join(group_1_sample_raw_bw_filepaths)\n",
    "group_2_sample_raw_bw_filepaths_str = ' '.join(group_2_sample_raw_bw_filepaths)\n",
    "sample_raw_bw_filepaths_str = ' '.join(sample_raw_bw_filepaths)"
   ]
  },
  {
   "cell_type": "markdown",
   "id": "d389772e-2516-46ee-bd15-810f7fe113bb",
   "metadata": {
    "tags": []
   },
   "source": [
    "# Calculate Bigwig of Log2FC between groups.\n",
    "First we calculate the means of each group, in `{group_1}.mean.bw` and `{group_2}.mean.bw`. Then we compute the Log2 Fold Change (with pseudocount) as `log2((group_1_mean+1)/(group_2_mean+1))`. A pseudocount prevents division by zero in the ratio calculation.\n",
    "\n",
    "We also compute the sum of coverage across all samples, for use later."
   ]
  },
  {
   "cell_type": "code",
   "execution_count": 21,
   "id": "07be3510-5e77-4fbb-960a-78fbb10188a8",
   "metadata": {},
   "outputs": [],
   "source": [
    "group_1_bw_filepath = f'{group_1}.mean.bw'\n",
    "group_2_bw_filepath = f'{group_2}.mean.bw'\n",
    "\n",
    "sum_bw_filepath = f'{group_1}.vs.{group_2}.sum.bw'\n",
    "log2fc_bw_filepath = f'{group_1}.vs.{group_2}.log2fc.bw'"
   ]
  },
  {
   "cell_type": "code",
   "execution_count": 22,
   "id": "23a7ae13-4684-4ef7-a187-599d0a7b0bde",
   "metadata": {},
   "outputs": [],
   "source": [
    "group_1_bw_cmd = (\n",
    "    f'wiggletools write {group_1_bw_filepath}.wig mean {group_1_sample_bw_filepaths_str} ; '\n",
    "    f'wigToBigWig -clip {group_1_bw_filepath}.wig {genome_chromsizes_filepath} {group_1_bw_filepath} ; '\n",
    "    f'rm {group_1_bw_filepath}.wig'\n",
    ")\n",
    "group_2_bw_cmd = (\n",
    "    f'wiggletools write {group_2_bw_filepath}.wig mean {group_2_sample_bw_filepaths_str} ; '\n",
    "    f'wigToBigWig -clip {group_2_bw_filepath}.wig {genome_chromsizes_filepath} {group_2_bw_filepath} ; '\n",
    "    f'rm {group_2_bw_filepath}.wig'\n",
    ")\n",
    "\n",
    "sum_bw_cmd = (\n",
    "    f'wiggletools write {sum_bw_filepath}.wig sum {group_1_sample_raw_bw_filepaths_str} {group_2_sample_raw_bw_filepaths_str} ; '\n",
    "    f'wigToBigWig -clip {sum_bw_filepath}.wig {genome_chromsizes_filepath} {sum_bw_filepath} ; '\n",
    "    f'rm {sum_bw_filepath}.wig'\n",
    ")\n",
    "\n",
    "log2fc_bw_cmd = (\n",
    "    f'wiggletools write {group_1_bw_filepath}.plus_1.wig offset 1 {group_1_bw_filepath} ; '\n",
    "    f'wiggletools write {group_2_bw_filepath}.plus_1.wig offset 1 {group_2_bw_filepath} ; '\n",
    "    f'wiggletools write {group_1}.vs.{group_2}.ratio.wig ratio {group_1_bw_filepath}.plus_1.wig {group_2_bw_filepath}.plus_1.wig ; '\n",
    "    f'wiggletools write {log2fc_bw_filepath}.wig log 2 {group_1}.vs.{group_2}.ratio.wig ; '\n",
    "    f'wigToBigWig -clip {log2fc_bw_filepath}.wig {genome_chromsizes_filepath} {log2fc_bw_filepath} ; '\n",
    "    f'rm {group_1_bw_filepath}.plus_1.wig ; '\n",
    "    f'rm {group_2_bw_filepath}.plus_1.wig ; '\n",
    "    f'rm {group_1}.vs.{group_2}.ratio.wig ; '\n",
    "    f'rm {log2fc_bw_filepath}.wig '\n",
    ")"
   ]
  },
  {
   "cell_type": "code",
   "execution_count": 23,
   "id": "0f277ed1-62f3-43b9-9be5-35720ce40e5a",
   "metadata": {},
   "outputs": [],
   "source": [
    "bw_cmds = [group_1_bw_cmd, group_2_bw_cmd, sum_bw_cmd, log2fc_bw_cmd]"
   ]
  },
  {
   "cell_type": "code",
   "execution_count": 24,
   "id": "324a9c4c-570a-4e42-b3da-2d5c4fd71c85",
   "metadata": {},
   "outputs": [
    {
     "name": "stdout",
     "output_type": "stream",
     "text": [
      "wiggletools write hct116.mean.bw.wig mean hct116_rep1.bw hct116_rep2.bw ; wigToBigWig -clip hct116.mean.bw.wig hg38.fa.chromsizes.tab hct116.mean.bw ; rm hct116.mean.bw.wig\n",
      "chromosome chrEBV is not in chrom sizes file\n",
      "chromosome chrEBV is not in chrom sizes file\n",
      "wiggletools write k562.mean.bw.wig mean k562_rep1.bw k562_rep2.bw ; wigToBigWig -clip k562.mean.bw.wig hg38.fa.chromsizes.tab k562.mean.bw ; rm k562.mean.bw.wig\n",
      "chromosome chrEBV is not in chrom sizes file\n",
      "chromosome chrEBV is not in chrom sizes file\n",
      "wiggletools write hct116.vs.k562.sum.bw.wig sum hct116_rep1.raw.bw hct116_rep2.raw.bw k562_rep1.raw.bw k562_rep2.raw.bw ; wigToBigWig -clip hct116.vs.k562.sum.bw.wig hg38.fa.chromsizes.tab hct116.vs.k562.sum.bw ; rm hct116.vs.k562.sum.bw.wig\n",
      "chromosome chrEBV is not in chrom sizes file\n",
      "chromosome chrEBV is not in chrom sizes file\n",
      "wiggletools write hct116.mean.bw.plus_1.wig offset 1 hct116.mean.bw ; wiggletools write k562.mean.bw.plus_1.wig offset 1 k562.mean.bw ; wiggletools write hct116.vs.k562.ratio.wig ratio hct116.mean.bw.plus_1.wig k562.mean.bw.plus_1.wig ; wiggletools write hct116.vs.k562.log2fc.bw.wig log 2 hct116.vs.k562.ratio.wig ; wigToBigWig -clip hct116.vs.k562.log2fc.bw.wig hg38.fa.chromsizes.tab hct116.vs.k562.log2fc.bw ; rm hct116.mean.bw.plus_1.wig ; rm k562.mean.bw.plus_1.wig ; rm hct116.vs.k562.ratio.wig ; rm hct116.vs.k562.log2fc.bw.wig \n",
      "chromosome chrEBV is not in chrom sizes file\n",
      "chromosome chrEBV is not in chrom sizes file\n",
      "CPU times: user 8.24 s, sys: 1.7 s, total: 9.94 s\n",
      "Wall time: 14min 14s\n"
     ]
    }
   ],
   "source": [
    "%%time\n",
    "\n",
    "run_bw_cmds = run_cmd = True\n",
    "for cmd in list(bw_cmds):\n",
    "    print(cmd)\n",
    "    if run_cmd:\n",
    "        ! {cmd}"
   ]
  },
  {
   "cell_type": "markdown",
   "id": "4efd989f-b120-4e6d-b7f6-98841ba25f9e",
   "metadata": {},
   "source": [
    "# Download annotation file\n",
    "Not strictly necessary, just for the benefit of visualization"
   ]
  },
  {
   "cell_type": "code",
   "execution_count": 25,
   "id": "c9fbbce4-a78a-4d4d-9e78-2332bbc9d225",
   "metadata": {
    "tags": []
   },
   "outputs": [],
   "source": [
    "# genes_gtf_filepath = 'hg38_ensGene.gtf'\n",
    "# genes_gtf_gz_url = 'https://hgdownload.soe.ucsc.edu/goldenPath/hg38/bigZips/genes/hg38.ensGene.gtf.gz'\n",
    "\n",
    "genes_gtf_filepath = 'ENCFF159KBI.gtf'\n",
    "genes_bed_filepath = genes_gtf_filepath[:-len('.gtf')]+'.bed'\n",
    "genes_gtf_gz_url = 'https://www.encodeproject.org/files/ENCFF159KBI/@@download/ENCFF159KBI.gtf.gz'"
   ]
  },
  {
   "cell_type": "code",
   "execution_count": 26,
   "id": "7962b7c9-c96d-4f5a-acaf-40f109aa5203",
   "metadata": {},
   "outputs": [],
   "source": [
    "download_genes_gtf_cmd = f'wget -nc -O {genes_gtf_filepath}.gz \"{genes_gtf_gz_url}\"; zcat {genes_gtf_filepath}.gz > {genes_gtf_filepath}'\n",
    "# index_gtf_cmd = f'tabix -p gff {genes_gtf_filepath}'"
   ]
  },
  {
   "cell_type": "code",
   "execution_count": 27,
   "id": "d2b57e72-0918-438d-89c9-687bc08891e3",
   "metadata": {},
   "outputs": [
    {
     "name": "stdout",
     "output_type": "stream",
     "text": [
      "wget -nc -O ENCFF159KBI.gtf.gz \"https://www.encodeproject.org/files/ENCFF159KBI/@@download/ENCFF159KBI.gtf.gz\"; zcat ENCFF159KBI.gtf.gz > ENCFF159KBI.gtf\n",
      "File ‘ENCFF159KBI.gtf.gz’ already there; not retrieving.\n",
      "CPU times: user 51 ms, sys: 23.7 ms, total: 74.6 ms\n",
      "Wall time: 5.25 s\n"
     ]
    }
   ],
   "source": [
    "%%time\n",
    "\n",
    "run_download_genes_gtf_cmd = run_cmd = True\n",
    "for cmd in [download_genes_gtf_cmd]:\n",
    "    print(cmd)\n",
    "    if run_cmd:\n",
    "        ! {cmd}"
   ]
  },
  {
   "cell_type": "code",
   "execution_count": 28,
   "id": "88b1de51-1c57-4622-9a1e-6887aea224f9",
   "metadata": {},
   "outputs": [
    {
     "name": "stdout",
     "output_type": "stream",
     "text": [
      "chr1\tHAVANA\tgene\t11869\t14409\t.\t+\t.\tgene_id \"ENSG00000223972.5\"; gene_type \"transcribed_unprocessed_pseudogene\"; gene_name \"DDX11L1\"; level 2; havana_gene \"OTTHUMG00000000961.2\";\n",
      "chr1\tHAVANA\ttranscript\t11869\t14409\t.\t+\t.\tgene_id \"ENSG00000223972.5\"; transcript_id \"ENST00000456328.2\"; gene_type \"transcribed_unprocessed_pseudogene\"; gene_name \"DDX11L1\"; transcript_type \"processed_transcript\"; transcript_name \"DDX11L1-202\"; level 2; transcript_support_level \"1\"; tag \"basic\"; havana_gene \"OTTHUMG00000000961.2\"; havana_transcript \"OTTHUMT00000362751.1\";\n",
      "chr1\tHAVANA\texon\t11869\t12227\t.\t+\t.\tgene_id \"ENSG00000223972.5\"; transcript_id \"ENST00000456328.2\"; gene_type \"transcribed_unprocessed_pseudogene\"; gene_name \"DDX11L1\"; transcript_type \"processed_transcript\"; transcript_name \"DDX11L1-202\"; exon_number 1; exon_id \"ENSE00002234944.1\"; level 2; transcript_support_level \"1\"; tag \"basic\"; havana_gene \"OTTHUMG00000000961.2\"; havana_transcript \"OTTHUMT00000362751.1\";\n",
      "chr1\tHAVANA\texon\t12613\t12721\t.\t+\t.\tgene_id \"ENSG00000223972.5\"; transcript_id \"ENST00000456328.2\"; gene_type \"transcribed_unprocessed_pseudogene\"; gene_name \"DDX11L1\"; transcript_type \"processed_transcript\"; transcript_name \"DDX11L1-202\"; exon_number 2; exon_id \"ENSE00003582793.1\"; level 2; transcript_support_level \"1\"; tag \"basic\"; havana_gene \"OTTHUMG00000000961.2\"; havana_transcript \"OTTHUMT00000362751.1\";\n",
      "chr1\tHAVANA\texon\t13221\t14409\t.\t+\t.\tgene_id \"ENSG00000223972.5\"; transcript_id \"ENST00000456328.2\"; gene_type \"transcribed_unprocessed_pseudogene\"; gene_name \"DDX11L1\"; transcript_type \"processed_transcript\"; transcript_name \"DDX11L1-202\"; exon_number 3; exon_id \"ENSE00002312635.1\"; level 2; transcript_support_level \"1\"; tag \"basic\"; havana_gene \"OTTHUMG00000000961.2\"; havana_transcript \"OTTHUMT00000362751.1\";\n",
      "chr1\tHAVANA\ttranscript\t12010\t13670\t.\t+\t.\tgene_id \"ENSG00000223972.5\"; transcript_id \"ENST00000450305.2\"; gene_type \"transcribed_unprocessed_pseudogene\"; gene_name \"DDX11L1\"; transcript_type \"transcribed_unprocessed_pseudogene\"; transcript_name \"DDX11L1-201\"; level 2; transcript_support_level \"NA\"; ont \"PGO:0000005\"; ont \"PGO:0000019\"; tag \"basic\"; havana_gene \"OTTHUMG00000000961.2\"; havana_transcript \"OTTHUMT00000002844.2\";\n",
      "chr1\tHAVANA\texon\t12010\t12057\t.\t+\t.\tgene_id \"ENSG00000223972.5\"; transcript_id \"ENST00000450305.2\"; gene_type \"transcribed_unprocessed_pseudogene\"; gene_name \"DDX11L1\"; transcript_type \"transcribed_unprocessed_pseudogene\"; transcript_name \"DDX11L1-201\"; exon_number 1; exon_id \"ENSE00001948541.1\"; level 2; transcript_support_level \"NA\"; ont \"PGO:0000005\"; ont \"PGO:0000019\"; tag \"basic\"; havana_gene \"OTTHUMG00000000961.2\"; havana_transcript \"OTTHUMT00000002844.2\";\n",
      "chr1\tHAVANA\texon\t12179\t12227\t.\t+\t.\tgene_id \"ENSG00000223972.5\"; transcript_id \"ENST00000450305.2\"; gene_type \"transcribed_unprocessed_pseudogene\"; gene_name \"DDX11L1\"; transcript_type \"transcribed_unprocessed_pseudogene\"; transcript_name \"DDX11L1-201\"; exon_number 2; exon_id \"ENSE00001671638.2\"; level 2; transcript_support_level \"NA\"; ont \"PGO:0000005\"; ont \"PGO:0000019\"; tag \"basic\"; havana_gene \"OTTHUMG00000000961.2\"; havana_transcript \"OTTHUMT00000002844.2\";\n",
      "chr1\tHAVANA\texon\t12613\t12697\t.\t+\t.\tgene_id \"ENSG00000223972.5\"; transcript_id \"ENST00000450305.2\"; gene_type \"transcribed_unprocessed_pseudogene\"; gene_name \"DDX11L1\"; transcript_type \"transcribed_unprocessed_pseudogene\"; transcript_name \"DDX11L1-201\"; exon_number 3; exon_id \"ENSE00001758273.2\"; level 2; transcript_support_level \"NA\"; ont \"PGO:0000005\"; ont \"PGO:0000019\"; tag \"basic\"; havana_gene \"OTTHUMG00000000961.2\"; havana_transcript \"OTTHUMT00000002844.2\";\n",
      "chr1\tHAVANA\texon\t12975\t13052\t.\t+\t.\tgene_id \"ENSG00000223972.5\"; transcript_id \"ENST00000450305.2\"; gene_type \"transcribed_unprocessed_pseudogene\"; gene_name \"DDX11L1\"; transcript_type \"transcribed_unprocessed_pseudogene\"; transcript_name \"DDX11L1-201\"; exon_number 4; exon_id \"ENSE00001799933.2\"; level 2; transcript_support_level \"NA\"; ont \"PGO:0000005\"; ont \"PGO:0000019\"; tag \"basic\"; havana_gene \"OTTHUMG00000000961.2\"; havana_transcript \"OTTHUMT00000002844.2\";\n"
     ]
    }
   ],
   "source": [
    "! head {genes_gtf_filepath}"
   ]
  },
  {
   "cell_type": "code",
   "execution_count": 29,
   "id": "cbab3801-dc91-481b-92f7-25bcee478004",
   "metadata": {},
   "outputs": [],
   "source": [
    "from gtfparse import read_gtf"
   ]
  },
  {
   "cell_type": "code",
   "execution_count": 30,
   "id": "4aa1c5a1-8018-44e1-a578-3c28e44e1759",
   "metadata": {},
   "outputs": [
    {
     "name": "stderr",
     "output_type": "stream",
     "text": [
      "/home/provnpd0/miniconda3/envs/mepp_walkthrough/lib/python3.9/site-packages/gtfparse/read_gtf.py:82: FutureWarning: The error_bad_lines argument has been deprecated and will be removed in a future version. Use on_bad_lines in the future.\n",
      "\n",
      "\n",
      "  chunk_iterator = pd.read_csv(\n",
      "/home/provnpd0/miniconda3/envs/mepp_walkthrough/lib/python3.9/site-packages/gtfparse/read_gtf.py:82: FutureWarning: The warn_bad_lines argument has been deprecated and will be removed in a future version. Use on_bad_lines in the future.\n",
      "\n",
      "\n",
      "  chunk_iterator = pd.read_csv(\n",
      "INFO:root:Extracted GTF attributes: ['gene_id', 'gene_type', 'gene_name', 'level', 'havana_gene', 'transcript_id', 'transcript_type', 'transcript_name', 'transcript_support_level', 'tag', 'havana_transcript', 'exon_number', 'exon_id', 'ont', 'protein_id', 'ccdsid']\n"
     ]
    },
    {
     "data": {
      "text/html": [
       "<div>\n",
       "<style scoped>\n",
       "    .dataframe tbody tr th:only-of-type {\n",
       "        vertical-align: middle;\n",
       "    }\n",
       "\n",
       "    .dataframe tbody tr th {\n",
       "        vertical-align: top;\n",
       "    }\n",
       "\n",
       "    .dataframe thead th {\n",
       "        text-align: right;\n",
       "    }\n",
       "</style>\n",
       "<table border=\"1\" class=\"dataframe\">\n",
       "  <thead>\n",
       "    <tr style=\"text-align: right;\">\n",
       "      <th></th>\n",
       "      <th>seqname</th>\n",
       "      <th>start</th>\n",
       "      <th>end</th>\n",
       "      <th>gene_name</th>\n",
       "      <th>score</th>\n",
       "      <th>strand</th>\n",
       "    </tr>\n",
       "  </thead>\n",
       "  <tbody>\n",
       "    <tr>\n",
       "      <th>0</th>\n",
       "      <td>chr1</td>\n",
       "      <td>11868</td>\n",
       "      <td>14409</td>\n",
       "      <td>DDX11L1</td>\n",
       "      <td>0</td>\n",
       "      <td>+</td>\n",
       "    </tr>\n",
       "    <tr>\n",
       "      <th>12</th>\n",
       "      <td>chr1</td>\n",
       "      <td>14403</td>\n",
       "      <td>29570</td>\n",
       "      <td>WASH7P</td>\n",
       "      <td>0</td>\n",
       "      <td>-</td>\n",
       "    </tr>\n",
       "    <tr>\n",
       "      <th>25</th>\n",
       "      <td>chr1</td>\n",
       "      <td>17368</td>\n",
       "      <td>17436</td>\n",
       "      <td>MIR6859-1</td>\n",
       "      <td>0</td>\n",
       "      <td>-</td>\n",
       "    </tr>\n",
       "    <tr>\n",
       "      <th>28</th>\n",
       "      <td>chr1</td>\n",
       "      <td>29553</td>\n",
       "      <td>31109</td>\n",
       "      <td>MIR1302-2HG</td>\n",
       "      <td>0</td>\n",
       "      <td>+</td>\n",
       "    </tr>\n",
       "    <tr>\n",
       "      <th>36</th>\n",
       "      <td>chr1</td>\n",
       "      <td>30365</td>\n",
       "      <td>30503</td>\n",
       "      <td>MIR1302-2</td>\n",
       "      <td>0</td>\n",
       "      <td>+</td>\n",
       "    </tr>\n",
       "    <tr>\n",
       "      <th>...</th>\n",
       "      <td>...</td>\n",
       "      <td>...</td>\n",
       "      <td>...</td>\n",
       "      <td>...</td>\n",
       "      <td>...</td>\n",
       "      <td>...</td>\n",
       "    </tr>\n",
       "    <tr>\n",
       "      <th>2742636</th>\n",
       "      <td>chr22_KI270734v1_random</td>\n",
       "      <td>72410</td>\n",
       "      <td>74814</td>\n",
       "      <td>AC007325.1</td>\n",
       "      <td>0</td>\n",
       "      <td>+</td>\n",
       "    </tr>\n",
       "    <tr>\n",
       "      <th>2742643</th>\n",
       "      <td>chr22_KI270734v1_random</td>\n",
       "      <td>131493</td>\n",
       "      <td>137392</td>\n",
       "      <td>AC007325.4</td>\n",
       "      <td>0</td>\n",
       "      <td>+</td>\n",
       "    </tr>\n",
       "    <tr>\n",
       "      <th>2742659</th>\n",
       "      <td>chr22_KI270734v1_random</td>\n",
       "      <td>138081</td>\n",
       "      <td>161852</td>\n",
       "      <td>AC007325.2</td>\n",
       "      <td>0</td>\n",
       "      <td>-</td>\n",
       "    </tr>\n",
       "    <tr>\n",
       "      <th>2742728</th>\n",
       "      <td>chrUn_KI270744v1</td>\n",
       "      <td>51008</td>\n",
       "      <td>51114</td>\n",
       "      <td>RF00026</td>\n",
       "      <td>0</td>\n",
       "      <td>-</td>\n",
       "    </tr>\n",
       "    <tr>\n",
       "      <th>2742731</th>\n",
       "      <td>chrUn_KI270750v1</td>\n",
       "      <td>148667</td>\n",
       "      <td>148843</td>\n",
       "      <td>RF00003</td>\n",
       "      <td>0</td>\n",
       "      <td>+</td>\n",
       "    </tr>\n",
       "  </tbody>\n",
       "</table>\n",
       "<p>58780 rows × 6 columns</p>\n",
       "</div>"
      ],
      "text/plain": [
       "                         seqname   start     end    gene_name  score strand\n",
       "0                           chr1   11868   14409      DDX11L1      0      +\n",
       "12                          chr1   14403   29570       WASH7P      0      -\n",
       "25                          chr1   17368   17436    MIR6859-1      0      -\n",
       "28                          chr1   29553   31109  MIR1302-2HG      0      +\n",
       "36                          chr1   30365   30503    MIR1302-2      0      +\n",
       "...                          ...     ...     ...          ...    ...    ...\n",
       "2742636  chr22_KI270734v1_random   72410   74814   AC007325.1      0      +\n",
       "2742643  chr22_KI270734v1_random  131493  137392   AC007325.4      0      +\n",
       "2742659  chr22_KI270734v1_random  138081  161852   AC007325.2      0      -\n",
       "2742728         chrUn_KI270744v1   51008   51114      RF00026      0      -\n",
       "2742731         chrUn_KI270750v1  148667  148843      RF00003      0      +\n",
       "\n",
       "[58780 rows x 6 columns]"
      ]
     },
     "execution_count": 30,
     "metadata": {},
     "output_type": "execute_result"
    }
   ],
   "source": [
    "genes_df = read_gtf(genes_gtf_filepath)\n",
    "genes_df = genes_df[genes_df[\"feature\"] == \"gene\"].copy()\n",
    "genes_df = genes_df[['seqname', 'start', 'end', 'gene_name', 'score', 'strand']].copy()\n",
    "genes_df['start'] = genes_df['start']-1\n",
    "genes_df['score'] = 0\n",
    "genes_df.to_csv(genes_bed_filepath, sep = '\\t', index = False, header = None)\n",
    "genes_df"
   ]
  },
  {
   "cell_type": "markdown",
   "id": "b6edb1e4-1bea-4fde-ac36-7e696187ccfe",
   "metadata": {},
   "source": [
    "# Visualize Log2 Fold Change bigWig with Coolbox"
   ]
  },
  {
   "cell_type": "code",
   "execution_count": 31,
   "id": "af7ffae9-2f36-4f95-824c-2a3ea4e6812e",
   "metadata": {},
   "outputs": [],
   "source": [
    "import coolbox\n",
    "from coolbox.api import *"
   ]
  },
  {
   "cell_type": "code",
   "execution_count": 32,
   "id": "650c85ed-85a0-4a15-a919-21de90e765bd",
   "metadata": {},
   "outputs": [
    {
     "data": {
      "text/plain": [
       "'0.3.8'"
      ]
     },
     "execution_count": 32,
     "metadata": {},
     "output_type": "execute_result"
    }
   ],
   "source": [
    "coolbox.__version__"
   ]
  },
  {
   "cell_type": "code",
   "execution_count": 33,
   "id": "0d4326f2-8f3a-4859-9697-06c991c38de3",
   "metadata": {},
   "outputs": [
    {
     "data": {
      "text/html": [
       "<div>\n",
       "<style scoped>\n",
       "    .dataframe tbody tr th:only-of-type {\n",
       "        vertical-align: middle;\n",
       "    }\n",
       "\n",
       "    .dataframe tbody tr th {\n",
       "        vertical-align: top;\n",
       "    }\n",
       "\n",
       "    .dataframe thead th {\n",
       "        text-align: right;\n",
       "    }\n",
       "</style>\n",
       "<table border=\"1\" class=\"dataframe\">\n",
       "  <thead>\n",
       "    <tr style=\"text-align: right;\">\n",
       "      <th></th>\n",
       "      <th>seqname</th>\n",
       "      <th>start</th>\n",
       "      <th>end</th>\n",
       "      <th>gene_name</th>\n",
       "      <th>score</th>\n",
       "      <th>strand</th>\n",
       "    </tr>\n",
       "  </thead>\n",
       "  <tbody>\n",
       "    <tr>\n",
       "      <th>1422334</th>\n",
       "      <td>chr11</td>\n",
       "      <td>5225463</td>\n",
       "      <td>5229395</td>\n",
       "      <td>HBB</td>\n",
       "      <td>0</td>\n",
       "      <td>-</td>\n",
       "    </tr>\n",
       "  </tbody>\n",
       "</table>\n",
       "</div>"
      ],
      "text/plain": [
       "        seqname    start      end gene_name  score strand\n",
       "1422334   chr11  5225463  5229395       HBB      0      -"
      ]
     },
     "execution_count": 33,
     "metadata": {},
     "output_type": "execute_result"
    }
   ],
   "source": [
    "genes_df[genes_df['gene_name']=='HBB']"
   ]
  },
  {
   "cell_type": "code",
   "execution_count": 34,
   "id": "20e81be1-60ca-4a10-9abb-2e3e7cc9f5fc",
   "metadata": {},
   "outputs": [],
   "source": [
    "test_margin = 2000\n",
    "test_gene_df=genes_df[genes_df['gene_name']=='HBB'].copy().reset_index(drop = True)\n",
    "test_chr = list(test_gene_df['seqname'])[0]\n",
    "test_start = list(test_gene_df['start'])[0] - test_margin\n",
    "test_end = list(test_gene_df['end'])[0] + test_margin"
   ]
  },
  {
   "cell_type": "code",
   "execution_count": 35,
   "id": "f3b5a9d1-383f-45be-89da-5631e7619b3b",
   "metadata": {},
   "outputs": [
    {
     "name": "stderr",
     "output_type": "stream",
     "text": [
      "[W::hts_idx_load3] The index file is older than the data file: ENCFF159KBI.bed.bgz.tbi\n"
     ]
    },
    {
     "data": {
      "image/png": "[encoded data removed]",
      "text/plain": [
       "<Figure size 1133.86x510.236 with 18 Axes>"
      ]
     },
     "execution_count": 35,
     "metadata": {},
     "output_type": "execute_result"
    }
   ],
   "source": [
    "# test_range = 'chr9:5000000-5500000'\n",
    "test_range = f'{test_chr}:{test_start}-{test_end}'\n",
    "frame = (\n",
    "    XAxis() + \n",
    "    BED(genes_bed_filepath) +\n",
    "    Title('Genes') + TrackHeight(8) + Color('#323232') +\n",
    "    BigWig(log2fc_bw_filepath) + Title('Log2FC') + Color('#cf32cf') +\n",
    "    BigWig(group_1_bw_filepath) + Title(group_1) + Color('#3232cf') +\n",
    "    BigWig(group_2_bw_filepath) + Title(group_2) + Color('#cf3232') +\n",
    "    BigWig(sum_bw_filepath) + Title('Coverage') + Color('#32cd32')\n",
    ")\n",
    "frame.plot(test_range)\n",
    "# bsr = Browser(frame)\n",
    "# bsr.show()"
   ]
  },
  {
   "cell_type": "markdown",
   "id": "0fc7bec0-d5a3-488b-82c4-af9be15ac54c",
   "metadata": {},
   "source": [
    "# Copy over the HOMER motif library\n",
    "Use the below commands to locate and copy your motif library if you installed HOMER with conda/mamba"
   ]
  },
  {
   "cell_type": "code",
   "execution_count": 36,
   "id": "1b376dc3-d317-429b-8815-6d171d91416f",
   "metadata": {},
   "outputs": [],
   "source": [
    "copy_homer_motif_cmd = f'cp -rf $(dirname $(which homer))/../share/homer/motifs ./homer_motifs'"
   ]
  },
  {
   "cell_type": "code",
   "execution_count": 37,
   "id": "c59072b4-d87b-4cc1-9331-461070f34851",
   "metadata": {},
   "outputs": [
    {
     "name": "stdout",
     "output_type": "stream",
     "text": [
      "cp -rf $(dirname $(which homer))/../share/homer/motifs ./homer_motifs\n",
      "CPU times: user 21 ms, sys: 19.9 ms, total: 40.9 ms\n",
      "Wall time: 1.92 s\n"
     ]
    }
   ],
   "source": [
    "%%time\n",
    "\n",
    "run_copy_homer_motif_cmd = run_cmd = True\n",
    "for cmd in [copy_homer_motif_cmd]:\n",
    "    print(cmd)\n",
    "    if run_cmd:\n",
    "        ! {cmd}"
   ]
  },
  {
   "cell_type": "markdown",
   "id": "433bb49b-4d05-4a52-80b4-ae178aebce43",
   "metadata": {},
   "source": [
    "# Scan for motif instances to center sequence on"
   ]
  },
  {
   "cell_type": "code",
   "execution_count": 38,
   "id": "f4e7ba3d-28d2-4411-b570-29f4ce0626d5",
   "metadata": {},
   "outputs": [],
   "source": [
    "motif_basename = 'gata'"
   ]
  },
  {
   "cell_type": "code",
   "execution_count": 39,
   "id": "bfe9ce2a-5bd1-4d08-a7d2-709efbdaae85",
   "metadata": {},
   "outputs": [],
   "source": [
    "motif_subpath = '/'.join(motif_basename.split(' '))\n",
    "motif_safe_basename = '_'.join(motif_subpath.split('/'))\n",
    "scanned_motif_filepath = f'homer_motifs/{motif_subpath}.motif'\n",
    "motif_scans_bed_filepath = f'{motif_safe_basename}.scans.bed'"
   ]
  },
  {
   "cell_type": "code",
   "execution_count": 40,
   "id": "6d68860b-edad-46fa-93fa-37874a9ae250",
   "metadata": {},
   "outputs": [],
   "source": [
    "scan_motifs_cmd = (\n",
    "    f'scanMotifGenomeWide.pl {scanned_motif_filepath} {genome_fa_filepath} '\n",
    "    f'-bed -5p 1> {motif_scans_bed_filepath} 2> {motif_scans_bed_filepath}.log'\n",
    ")\n"
   ]
  },
  {
   "cell_type": "code",
   "execution_count": 41,
   "id": "29181289-d557-4574-ad81-a584670db863",
   "metadata": {
    "tags": []
   },
   "outputs": [
    {
     "name": "stdout",
     "output_type": "stream",
     "text": [
      "scanMotifGenomeWide.pl homer_motifs/gata.motif hg38.fa -bed -5p 1> gata.scans.bed 2> gata.scans.bed.log\n",
      "CPU times: user 2.28 s, sys: 497 ms, total: 2.78 s\n",
      "Wall time: 4min 1s\n"
     ]
    }
   ],
   "source": [
    "%%time\n",
    "\n",
    "run_scan_motifs_cmd = run_cmd = True\n",
    "for cmd in [scan_motifs_cmd]:\n",
    "    print(cmd)\n",
    "    if run_cmd:\n",
    "        ! {cmd}"
   ]
  },
  {
   "cell_type": "code",
   "execution_count": 42,
   "id": "f58d0be4-a9b6-4777-b51f-e504d1dd9feb",
   "metadata": {},
   "outputs": [
    {
     "name": "stdout",
     "output_type": "stream",
     "text": [
      ">CAGATAAGGN\tGata1(Zf)/K562-GATA1-ChIP-Seq(GSE18829)/Homer\t6.402981\t-6.924523e+03\t0\t50000.0,9843.0,7580.0,5717.0,0.00e+00\n",
      "0.109\t0.469\t0.365\t0.057\n",
      "0.700\t0.024\t0.001\t0.275\n",
      "0.001\t0.001\t0.997\t0.001\n",
      "0.997\t0.001\t0.001\t0.001\n",
      "0.001\t0.001\t0.001\t0.997\n",
      "0.997\t0.001\t0.001\t0.001\n",
      "0.997\t0.001\t0.001\t0.001\n",
      "0.023\t0.145\t0.830\t0.001\n",
      "0.311\t0.237\t0.434\t0.018\n"
     ]
    }
   ],
   "source": [
    "! head {scanned_motif_filepath}"
   ]
  },
  {
   "cell_type": "code",
   "execution_count": 43,
   "id": "fbba6a01-c07c-4d18-957c-a4c398e30391",
   "metadata": {},
   "outputs": [
    {
     "name": "stdout",
     "output_type": "stream",
     "text": [
      "chr1\t22919\t23119\tGata1(Zf)\t8.474400\t+\n",
      "chr1\t27984\t28184\tGata1(Zf)\t8.166325\t-\n",
      "chr1\t32492\t32692\tGata1(Zf)\t8.746133\t+\n",
      "chr1\t32657\t32857\tGata1(Zf)\t7.109025\t-\n",
      "chr1\t42233\t42433\tGata1(Zf)\t8.746133\t+\n",
      "chr1\t48006\t48206\tGata1(Zf)\t8.153403\t-\n",
      "chr1\t50012\t50212\tGata1(Zf)\t9.838112\t-\n",
      "chr1\t51059\t51259\tGata1(Zf)\t6.645415\t-\n",
      "chr1\t53345\t53545\tGata1(Zf)\t9.020373\t+\n",
      "chr1\t53472\t53672\tGata1(Zf)\t9.954682\t+\n",
      "525556 gata.scans.bed\n"
     ]
    }
   ],
   "source": [
    "! head {motif_scans_bed_filepath}\n",
    "! wc -l {motif_scans_bed_filepath}"
   ]
  },
  {
   "cell_type": "markdown",
   "id": "638bf791-45eb-4e2f-9e15-7f8c74aea523",
   "metadata": {},
   "source": [
    "# Score motif scans by Log2 Fold Change, and annotate with coverage"
   ]
  },
  {
   "cell_type": "code",
   "execution_count": 44,
   "id": "de8b4bf1-2506-4ea7-9bdf-6595f3451d6f",
   "metadata": {},
   "outputs": [],
   "source": [
    "scored_motif_scans_filepath = f'{motif_safe_basename}.scans.scored_by.{log2fc_bw_filepath}.bed'\n",
    "coverage_summed_motif_scans_filepath = f'{motif_safe_basename}.scans.scored_by.{sum_bw_filepath}.bed'"
   ]
  },
  {
   "cell_type": "code",
   "execution_count": 45,
   "id": "42216ba9-b34c-4de7-8073-7bcd534fa3f1",
   "metadata": {},
   "outputs": [],
   "source": [
    "score_scans_cmd = f'bigWigToWig {log2fc_bw_filepath} >(wig2bed -x) | bedmap --echo --delim \\'\\\\t\\' --wmean {motif_scans_bed_filepath} - | awk \\'$7!=\"NAN\"\\' | awk \\'{{FS=OFS=\"\\\\t\";$5=$7;print $1,$2,$3,$4,$5,$6}}\\' > {scored_motif_scans_filepath}'"
   ]
  },
  {
   "cell_type": "code",
   "execution_count": 46,
   "id": "aacb5cfb-c2c3-451b-bda2-11366bdbb4fd",
   "metadata": {},
   "outputs": [],
   "source": [
    "coverage_sum_scans_cmd = f'bigWigToWig {sum_bw_filepath} >(wig2bed -x) | bedmap --echo --delim \\'\\\\t\\' --wmean {scored_motif_scans_filepath} - > {coverage_summed_motif_scans_filepath}'"
   ]
  },
  {
   "cell_type": "code",
   "execution_count": 47,
   "id": "a2a8ceb4-f60c-4011-ae66-65bfcc65becb",
   "metadata": {},
   "outputs": [
    {
     "name": "stdout",
     "output_type": "stream",
     "text": [
      "bigWigToWig hct116.vs.k562.log2fc.bw >(wig2bed -x) | bedmap --echo --delim '\\t' --wmean gata.scans.bed - | awk '$7!=\"NAN\"' | awk '{FS=OFS=\"\\t\";$5=$7;print $1,$2,$3,$4,$5,$6}' > gata.scans.scored_by.hct116.vs.k562.log2fc.bw.bed\n",
      "bigWigToWig hct116.vs.k562.sum.bw >(wig2bed -x) | bedmap --echo --delim '\\t' --wmean gata.scans.scored_by.hct116.vs.k562.log2fc.bw.bed - > gata.scans.scored_by.hct116.vs.k562.sum.bw.bed\n",
      "CPU times: user 5.22 s, sys: 1.12 s, total: 6.34 s\n",
      "Wall time: 8min 54s\n"
     ]
    }
   ],
   "source": [
    "%%time\n",
    "\n",
    "run_score_scans_cmds = run_cmd = True\n",
    "for cmd in [score_scans_cmd, coverage_sum_scans_cmd]:\n",
    "    print(cmd)\n",
    "    if run_cmd:\n",
    "        ! {cmd}"
   ]
  },
  {
   "cell_type": "code",
   "execution_count": 48,
   "id": "35083c82-55c6-4dcc-afcb-2d3573d5ff28",
   "metadata": {},
   "outputs": [
    {
     "name": "stdout",
     "output_type": "stream",
     "text": [
      "chr1\t22919\t23119\tGata1(Zf)\t0.000000\t+\n",
      "chr1\t27984\t28184\tGata1(Zf)\t0.000000\t-\n",
      "chr1\t32492\t32692\tGata1(Zf)\t0.000000\t+\n",
      "chr1\t32657\t32857\tGata1(Zf)\t-1.240453\t-\n",
      "chr1\t42233\t42433\tGata1(Zf)\t-1.266769\t+\n",
      "chr1\t48006\t48206\tGata1(Zf)\t-0.597903\t-\n",
      "chr1\t50012\t50212\tGata1(Zf)\t1.776575\t-\n",
      "chr1\t51059\t51259\tGata1(Zf)\t-0.454239\t-\n",
      "chr1\t53345\t53545\tGata1(Zf)\t-1.884116\t+\n",
      "chr1\t53472\t53672\tGata1(Zf)\t-1.961904\t+\n"
     ]
    }
   ],
   "source": [
    "! head {scored_motif_scans_filepath}"
   ]
  },
  {
   "cell_type": "code",
   "execution_count": 49,
   "id": "30c89f9b-e0c1-440b-adc3-25302b009d86",
   "metadata": {},
   "outputs": [
    {
     "name": "stdout",
     "output_type": "stream",
     "text": [
      "chr1\t22919\t23119\tGata1(Zf)\t0.000000\t+\t0.000000\n",
      "chr1\t27984\t28184\tGata1(Zf)\t0.000000\t-\t0.000000\n",
      "chr1\t32492\t32692\tGata1(Zf)\t0.000000\t+\t0.000000\n",
      "chr1\t32657\t32857\tGata1(Zf)\t-1.240453\t-\t2.175000\n",
      "chr1\t42233\t42433\tGata1(Zf)\t-1.266769\t+\t18.085000\n",
      "chr1\t48006\t48206\tGata1(Zf)\t-0.597903\t-\t2.710000\n",
      "chr1\t50012\t50212\tGata1(Zf)\t1.776575\t-\t2.940000\n",
      "chr1\t51059\t51259\tGata1(Zf)\t-0.454239\t-\t6.040000\n",
      "chr1\t53345\t53545\tGata1(Zf)\t-1.884116\t+\t8.875000\n",
      "chr1\t53472\t53672\tGata1(Zf)\t-1.961904\t+\t5.430000\n"
     ]
    }
   ],
   "source": [
    "! head {coverage_summed_motif_scans_filepath}"
   ]
  },
  {
   "cell_type": "markdown",
   "id": "ac5c7478-f4be-4d82-9e9b-c2f53759f1ef",
   "metadata": {},
   "source": [
    "# Perform cluster deduplication, designate sequence length\n",
    "By default, HOMER genomewide motif scans extract intervals +/-100bp of the motif 5' end. This step prevents extraction of overlapping sequences in this interval, which prevents e.g. identification of artifactual periodicities/positionalities due to repetitive sequence. For example, you might have a motif repeat with itself within +/- 100bp of its own instances, giving rise to artificial periodicity due to repetitive sampling of the same genomic DNA.\n",
    "\n",
    "Briefly, we cluster overlapping intervals, then for each cluster we select only the interval with the highest summed coverage across all samples.\n",
    "\n",
    "We also only select intervals witha minimum summed coverage of 5, to avoid picking up unbound intervals."
   ]
  },
  {
   "cell_type": "code",
   "execution_count": 50,
   "id": "3538be3b-2f96-4a85-915b-c727b7614adf",
   "metadata": {},
   "outputs": [],
   "source": [
    "sequence_length = 200"
   ]
  },
  {
   "cell_type": "code",
   "execution_count": 51,
   "id": "a5fd89c0-1c21-463e-b148-0743270294e3",
   "metadata": {},
   "outputs": [],
   "source": [
    "sequence_length = max(sequence_length, 200)\n",
    "slop = (sequence_length-200)//2"
   ]
  },
  {
   "cell_type": "code",
   "execution_count": 52,
   "id": "400ffa92-5f26-4e7d-9761-5c0e8e82d194",
   "metadata": {},
   "outputs": [],
   "source": [
    "cluster_deduplicated_scored_motif_scans_filepath = scored_motif_scans_filepath[:-len('.bed')] + '.cluster_deduplicated.bed'\n",
    "slopped_cluster_deduplicated_scored_motif_scans_filepath = cluster_deduplicated_scored_motif_scans_filepath[:-len('.bed')] + f'.slop_{slop}.bed'"
   ]
  },
  {
   "cell_type": "code",
   "execution_count": 53,
   "id": "4a5aa1c3-95c6-4851-94b1-17687ab3961b",
   "metadata": {},
   "outputs": [],
   "source": [
    "min_coverage = 5.0\n",
    "cluster_deduplication_cmd = (\n",
    "    f'bedtools cluster -s -i {coverage_summed_motif_scans_filepath} '\n",
    "    f'|awk \\'$7>={min_coverage}\\' '\n",
    "    f'| sort -k8,8n -k7,7nr | awk \\'!a[$8]++\\' '\n",
    "    f'| bedtools sort -i - |cut -f1-6 '\n",
    "    f'> {cluster_deduplicated_scored_motif_scans_filepath}'\n",
    ")\n",
    "\n",
    "slop_cmd = (\n",
    "    f'bedtools slop -i {cluster_deduplicated_scored_motif_scans_filepath} -b {slop} -g {genome_chromsizes_filepath} > {slopped_cluster_deduplicated_scored_motif_scans_filepath}'\n",
    ")\n",
    "\n"
   ]
  },
  {
   "cell_type": "code",
   "execution_count": 54,
   "id": "1c7477dd-f3a0-4940-b046-63b4a59477ad",
   "metadata": {},
   "outputs": [
    {
     "name": "stdout",
     "output_type": "stream",
     "text": [
      "bedtools cluster -s -i gata.scans.scored_by.hct116.vs.k562.sum.bw.bed |awk '$7>=5.0' | sort -k8,8n -k7,7nr | awk '!a[$8]++' | bedtools sort -i - |cut -f1-6 > gata.scans.scored_by.hct116.vs.k562.log2fc.bw.cluster_deduplicated.bed\n",
      "bedtools slop -i gata.scans.scored_by.hct116.vs.k562.log2fc.bw.cluster_deduplicated.bed -b 0 -g hg38.fa.chromsizes.tab > gata.scans.scored_by.hct116.vs.k562.log2fc.bw.cluster_deduplicated.slop_0.bed\n",
      "CPU times: user 32.2 ms, sys: 41.5 ms, total: 73.7 ms\n",
      "Wall time: 3.13 s\n"
     ]
    }
   ],
   "source": [
    "%%time\n",
    "\n",
    "run_bedtools_cmds = run_cmd = True\n",
    "for cmd in [cluster_deduplication_cmd, slop_cmd]:\n",
    "    print(cmd)\n",
    "    if run_cmd:\n",
    "        ! {cmd}"
   ]
  },
  {
   "cell_type": "code",
   "execution_count": 55,
   "id": "c7ae0fc4-8b09-486d-8fe8-047d2d6c75db",
   "metadata": {},
   "outputs": [
    {
     "name": "stdout",
     "output_type": "stream",
     "text": [
      "chr1\t42233\t42433\tGata1(Zf)\t-1.266769\t+\n",
      "chr1\t51059\t51259\tGata1(Zf)\t-0.454239\t-\n",
      "chr1\t53345\t53545\tGata1(Zf)\t-1.884116\t+\n",
      "chr1\t67892\t68092\tGata1(Zf)\t-0.659711\t-\n",
      "chr1\t632721\t632921\tGata1(Zf)\t-0.971672\t-\n",
      "chr1\t796048\t796248\tGata1(Zf)\t-2.782733\t+\n",
      "chr1\t796306\t796506\tGata1(Zf)\t-1.834608\t+\n",
      "chr1\t797945\t798145\tGata1(Zf)\t-0.928542\t-\n",
      "chr1\t801919\t802119\tGata1(Zf)\t-0.896669\t+\n",
      "chr1\t803941\t804141\tGata1(Zf)\t-1.488721\t+\n"
     ]
    }
   ],
   "source": [
    "! head {slopped_cluster_deduplicated_scored_motif_scans_filepath}"
   ]
  },
  {
   "cell_type": "markdown",
   "id": "8d8226eb-2dcf-49fb-9bc5-47f188e023f0",
   "metadata": {},
   "source": [
    "# Preview BED file of scored intervals "
   ]
  },
  {
   "cell_type": "code",
   "execution_count": 56,
   "id": "83a6f8d0-c0ca-4d42-96c0-ac62ecd52f38",
   "metadata": {},
   "outputs": [
    {
     "data": {
      "text/html": [
       "<div>\n",
       "<style scoped>\n",
       "    .dataframe tbody tr th:only-of-type {\n",
       "        vertical-align: middle;\n",
       "    }\n",
       "\n",
       "    .dataframe tbody tr th {\n",
       "        vertical-align: top;\n",
       "    }\n",
       "\n",
       "    .dataframe thead th {\n",
       "        text-align: right;\n",
       "    }\n",
       "</style>\n",
       "<table border=\"1\" class=\"dataframe\">\n",
       "  <thead>\n",
       "    <tr style=\"text-align: right;\">\n",
       "      <th></th>\n",
       "      <th>Chr</th>\n",
       "      <th>Start</th>\n",
       "      <th>End</th>\n",
       "      <th>Name</th>\n",
       "      <th>Score</th>\n",
       "      <th>Strand</th>\n",
       "    </tr>\n",
       "  </thead>\n",
       "  <tbody>\n",
       "    <tr>\n",
       "      <th>0</th>\n",
       "      <td>chr1</td>\n",
       "      <td>42233</td>\n",
       "      <td>42433</td>\n",
       "      <td>Gata1(Zf)</td>\n",
       "      <td>-1.266769</td>\n",
       "      <td>+</td>\n",
       "    </tr>\n",
       "    <tr>\n",
       "      <th>1</th>\n",
       "      <td>chr1</td>\n",
       "      <td>51059</td>\n",
       "      <td>51259</td>\n",
       "      <td>Gata1(Zf)</td>\n",
       "      <td>-0.454239</td>\n",
       "      <td>-</td>\n",
       "    </tr>\n",
       "    <tr>\n",
       "      <th>2</th>\n",
       "      <td>chr1</td>\n",
       "      <td>53345</td>\n",
       "      <td>53545</td>\n",
       "      <td>Gata1(Zf)</td>\n",
       "      <td>-1.884116</td>\n",
       "      <td>+</td>\n",
       "    </tr>\n",
       "    <tr>\n",
       "      <th>3</th>\n",
       "      <td>chr1</td>\n",
       "      <td>67892</td>\n",
       "      <td>68092</td>\n",
       "      <td>Gata1(Zf)</td>\n",
       "      <td>-0.659711</td>\n",
       "      <td>-</td>\n",
       "    </tr>\n",
       "    <tr>\n",
       "      <th>4</th>\n",
       "      <td>chr1</td>\n",
       "      <td>632721</td>\n",
       "      <td>632921</td>\n",
       "      <td>Gata1(Zf)</td>\n",
       "      <td>-0.971672</td>\n",
       "      <td>-</td>\n",
       "    </tr>\n",
       "    <tr>\n",
       "      <th>...</th>\n",
       "      <td>...</td>\n",
       "      <td>...</td>\n",
       "      <td>...</td>\n",
       "      <td>...</td>\n",
       "      <td>...</td>\n",
       "      <td>...</td>\n",
       "    </tr>\n",
       "    <tr>\n",
       "      <th>135692</th>\n",
       "      <td>chrY</td>\n",
       "      <td>15749872</td>\n",
       "      <td>15750072</td>\n",
       "      <td>Gata1(Zf)</td>\n",
       "      <td>3.218434</td>\n",
       "      <td>-</td>\n",
       "    </tr>\n",
       "    <tr>\n",
       "      <th>135693</th>\n",
       "      <td>chrY</td>\n",
       "      <td>18459264</td>\n",
       "      <td>18459464</td>\n",
       "      <td>Gata1(Zf)</td>\n",
       "      <td>2.937927</td>\n",
       "      <td>-</td>\n",
       "    </tr>\n",
       "    <tr>\n",
       "      <th>135694</th>\n",
       "      <td>chrY</td>\n",
       "      <td>18860933</td>\n",
       "      <td>18861133</td>\n",
       "      <td>Gata1(Zf)</td>\n",
       "      <td>3.563321</td>\n",
       "      <td>+</td>\n",
       "    </tr>\n",
       "    <tr>\n",
       "      <th>135695</th>\n",
       "      <td>chrY</td>\n",
       "      <td>19566658</td>\n",
       "      <td>19566858</td>\n",
       "      <td>Gata1(Zf)</td>\n",
       "      <td>2.996070</td>\n",
       "      <td>+</td>\n",
       "    </tr>\n",
       "    <tr>\n",
       "      <th>135696</th>\n",
       "      <td>chrY</td>\n",
       "      <td>26369044</td>\n",
       "      <td>26369244</td>\n",
       "      <td>Gata1(Zf)</td>\n",
       "      <td>0.604354</td>\n",
       "      <td>-</td>\n",
       "    </tr>\n",
       "  </tbody>\n",
       "</table>\n",
       "<p>135697 rows × 6 columns</p>\n",
       "</div>"
      ],
      "text/plain": [
       "         Chr     Start       End       Name     Score Strand\n",
       "0       chr1     42233     42433  Gata1(Zf) -1.266769      +\n",
       "1       chr1     51059     51259  Gata1(Zf) -0.454239      -\n",
       "2       chr1     53345     53545  Gata1(Zf) -1.884116      +\n",
       "3       chr1     67892     68092  Gata1(Zf) -0.659711      -\n",
       "4       chr1    632721    632921  Gata1(Zf) -0.971672      -\n",
       "...      ...       ...       ...        ...       ...    ...\n",
       "135692  chrY  15749872  15750072  Gata1(Zf)  3.218434      -\n",
       "135693  chrY  18459264  18459464  Gata1(Zf)  2.937927      -\n",
       "135694  chrY  18860933  18861133  Gata1(Zf)  3.563321      +\n",
       "135695  chrY  19566658  19566858  Gata1(Zf)  2.996070      +\n",
       "135696  chrY  26369044  26369244  Gata1(Zf)  0.604354      -\n",
       "\n",
       "[135697 rows x 6 columns]"
      ]
     },
     "execution_count": 56,
     "metadata": {},
     "output_type": "execute_result"
    }
   ],
   "source": [
    "bed_columns = 'Chr Start End Name Score Strand'.split()\n",
    "bed_df = pd.read_csv(cluster_deduplicated_scored_motif_scans_filepath, sep = '\\t', header = None, names = bed_columns)\n",
    "bed_df"
   ]
  },
  {
   "cell_type": "markdown",
   "id": "af2b7dc9-7e1b-48ae-8fb6-0de31179f623",
   "metadata": {},
   "source": [
    "# Visualize score distribution\n",
    "Like most tools, MEPP prefers normal score distributions."
   ]
  },
  {
   "cell_type": "code",
   "execution_count": 57,
   "id": "b9521768-912a-4c41-94fe-02e3fda7cfa8",
   "metadata": {},
   "outputs": [
    {
     "data": {
      "text/plain": [
       "array([[<AxesSubplot:title={'center':'Score'}>]], dtype=object)"
      ]
     },
     "execution_count": 57,
     "metadata": {},
     "output_type": "execute_result"
    },
    {
     "data": {
      "image/png": "[encoded data removed]",
      "text/plain": [
       "<Figure size 432x288 with 1 Axes>"
      ]
     },
     "metadata": {
      "needs_background": "light"
     },
     "output_type": "display_data"
    }
   ],
   "source": [
    "bed_df[['Score']].hist(bins=100)"
   ]
  },
  {
   "cell_type": "markdown",
   "id": "ca92baba-4dff-405b-82bb-3fd35ce7d1d2",
   "metadata": {},
   "source": [
    "# Download JASPAR-converted HOMER vertebrate motifs"
   ]
  },
  {
   "cell_type": "code",
   "execution_count": 58,
   "id": "52ca7af9-005b-47ca-b479-3e9242d1061a",
   "metadata": {},
   "outputs": [],
   "source": [
    "motifs_url = 'https://raw.githubusercontent.com/npdeloss/mepp/main/data/homer.motifs.txt'\n",
    "motifs_filepath = 'homer.motifs.txt'"
   ]
  },
  {
   "cell_type": "code",
   "execution_count": 59,
   "id": "feaeb58e-ea36-4e47-8176-a4848be42025",
   "metadata": {},
   "outputs": [],
   "source": [
    "wget_motifs_cmd = (\n",
    "    f'wget -nc -O {motifs_filepath} \"{motifs_url}\"'\n",
    ")"
   ]
  },
  {
   "cell_type": "code",
   "execution_count": 60,
   "id": "a148e7d8-b81e-47c7-846c-800c3df2f702",
   "metadata": {},
   "outputs": [
    {
     "name": "stdout",
     "output_type": "stream",
     "text": [
      "wget -nc -O homer.motifs.txt \"https://raw.githubusercontent.com/npdeloss/mepp/main/data/homer.motifs.txt\"\n",
      "File ‘homer.motifs.txt’ already there; not retrieving.\n",
      "CPU times: user 0 ns, sys: 25.6 ms, total: 25.6 ms\n",
      "Wall time: 134 ms\n"
     ]
    }
   ],
   "source": [
    "%%time\n",
    "\n",
    "run_wget_motifs_cmds = run_cmd = True\n",
    "for cmd in [wget_motifs_cmd]:\n",
    "    print(cmd)\n",
    "    if run_cmd:\n",
    "        ! {cmd}"
   ]
  },
  {
   "cell_type": "markdown",
   "id": "b226c499-a973-406e-a609-dd95f9bbe566",
   "metadata": {},
   "source": [
    "# Convert scored bed file to scored sequences, and run MEPP analysis\n",
    "In `mepp.get_scored_fasta` we handle reverse complementation of sequence according the BED interval's strand value. We can then pipe that directly into MEPP."
   ]
  },
  {
   "cell_type": "markdown",
   "id": "2b28a806-acfe-480f-9bc7-b0c75a6cccb3",
   "metadata": {},
   "source": [
    "## Explanation of parameters\n",
    "\n",
    "`python -m mepp.get_scored_fasta`\n",
    "* Utility for extracting scored FASTA files (sequence score in header) from scored bed files\n",
    "    * `-fi {genome_fa_filepath}`: Extract sequence from the specified genome FASTA (required).\n",
    "    * `-bed {bed_filepath}`: Extract sequences from the intervals specified in this BED file (required). \n",
    "    \n",
    "`|python -m mepp.cli`\n",
    "* Pipe output from previous command into MEPP\n",
    "    * `--fa - `: Receive scored FASTA from the output of the previous command (Required).\n",
    "    * `--motifs {motifs_filepath}:` Analyze these motifs from a JASPAR-formatted motif matrix collection file (Required).\n",
    "    * `--out {mepp_filepath} `: Output to this directory (Required).\n",
    "    * `--perms 100 `: Use 100 permutations for confidence interval statistics (Default: 1000, can be costly in time & memory).\n",
    "    * `--batch 1000`: Use 1000 as tensorflow batch size (Default: 1000, adjust according to machine memory)\n",
    "    * `dgt 50`: Only analyze sequences with less than 50% degenerate base content (Default: 100, adjust according to analysis needs)\n",
    "    * `--jobs 20`: Use 20 jobs for multithreaded tasks. (Default: Use all cores)\n",
    "    * `--gjobs 20`: Use 20 jobs for multithreaded tasks optimizable by Tensorflow GPU usage. (Default: 1)\n",
    "    * `--nogpu`: Don't use the GPU (Default: Use GPU.)\n",
    "        * if set, `--gjobs` is simply the number of cores used to process motifs in parallel.\n",
    "    * `--dpi 100`: DPI of plots. Important, since the motif occurrence heatmap is DPI-dependent. (Default: 300)\n",
    "    * `--orientations +,- `: Analyze these orientations of the motifs (Forward, and reverse). (Default: +,+/-, analyze Forward, and non-orientation specific)\n",
    "    * Not specified here:\n",
    "        * ` --margin {INTEGER}`: Number of bases along either side of motif to \"blur\" motif matches for smoothing. (Default: 2)\n",
    "            * It can be useful to set this depending on how strictly your sequences have been centered. If centering on ChIP-seq peak centers, consider a larger margin."
   ]
  },
  {
   "cell_type": "code",
   "execution_count": 61,
   "id": "d15aa209-264e-43e2-aace-c41ead622b93",
   "metadata": {},
   "outputs": [],
   "source": [
    "mepp_filepath = slopped_cluster_deduplicated_scored_motif_scans_filepath[:-len('.bed')]+f'.for_notebook.mepp'\n",
    "\n",
    "mepp_cmd = (\n",
    "    f'python -m mepp.get_scored_fasta -fi {genome_fa_filepath} '\n",
    "    f'-bed {slopped_cluster_deduplicated_scored_motif_scans_filepath} '\n",
    "    f'|python -m mepp.cli '\n",
    "    f'--fa - '\n",
    "    f'--motifs {motifs_filepath} '\n",
    "    f'--out {mepp_filepath} '\n",
    "    f'--perms 100 '\n",
    "    f'--batch 1000 '\n",
    "    f'--dgt 50 '\n",
    "    f'--jobs 15 '\n",
    "    f'--gjobs 15 '\n",
    "    f'--nogpu '\n",
    "    f'--dpi 100 '\n",
    "    f'--orientations +,- '\n",
    "    f'&> {mepp_filepath}.log'\n",
    ")"
   ]
  },
  {
   "cell_type": "code",
   "execution_count": 62,
   "id": "078a262a-b967-4ce4-94eb-2c6bb9dd1c0b",
   "metadata": {},
   "outputs": [
    {
     "name": "stdout",
     "output_type": "stream",
     "text": [
      "python -m mepp.get_scored_fasta -fi hg38.fa -bed gata.scans.scored_by.hct116.vs.k562.log2fc.bw.cluster_deduplicated.slop_0.bed |python -m mepp.cli --fa - --motifs homer.motifs.txt --out gata.scans.scored_by.hct116.vs.k562.log2fc.bw.cluster_deduplicated.slop_0.for_notebook.mepp --perms 100 --batch 1000 --dgt 50 --jobs 15 --gjobs 15 --nogpu --dpi 100 --orientations +,- &> gata.scans.scored_by.hct116.vs.k562.log2fc.bw.cluster_deduplicated.slop_0.for_notebook.mepp.log\n",
      "/home/provnpd0/miniconda3/envs/mepp_walkthrough/lib/python3.9/runpy.py:127: RuntimeWarning: 'mepp.get_scored_fasta' found in sys.modules after import of package 'mepp', but prior to execution of 'mepp.get_scored_fasta'; this may result in unpredictable behaviour\n",
      "  warn(RuntimeWarning(msg))\n",
      "CPU times: user 36.6 s, sys: 6.93 s, total: 43.5 s\n",
      "Wall time: 44min 24s\n"
     ]
    }
   ],
   "source": [
    "%%time\n",
    "\n",
    "run_mepp_cmd = run_cmd = True\n",
    "for cmd in [mepp_cmd]:\n",
    "    print(cmd)\n",
    "    if run_cmd:\n",
    "        ! {cmd}"
   ]
  },
  {
   "cell_type": "code",
   "execution_count": 63,
   "id": "2385424d-cb7b-4698-a7b0-44034140bbb5",
   "metadata": {},
   "outputs": [
    {
     "name": "stdout",
     "output_type": "stream",
     "text": [
      "/gpfs/data01/bennerlab/home/provnpd0/mepp_walkthrough/mepp/html.py:929: FutureWarning: this method is deprecated in favour of `Styler.hide(axis='columns')`\n",
      "  clustermap_df\n",
      "/gpfs/data01/bennerlab/home/provnpd0/mepp_walkthrough/mepp/html.py:929: FutureWarning: this method is deprecated in favour of `Styler.hide(axis='index')`\n",
      "  clustermap_df\n",
      "/gpfs/data01/bennerlab/home/provnpd0/mepp_walkthrough/mepp/html.py:1049: FutureWarning: this method is deprecated in favour of `Styler.to_html()`\n",
      "  f'''<body>{clustermap_df_style.render()}</body></html>'''\n",
      "HTML result table for orientation +: gata.scans.scored_by.hct116.vs.k562.log2fc.bw.cluster_deduplicated.slop_0.for_notebook.mepp/results_table_orientation_fwd.html\n",
      "HTML result table for orientation -: gata.scans.scored_by.hct116.vs.k562.log2fc.bw.cluster_deduplicated.slop_0.for_notebook.mepp/results_table_orientation_rev.html\n",
      "HTML clustermap for orientation +: gata.scans.scored_by.hct116.vs.k562.log2fc.bw.cluster_deduplicated.slop_0.for_notebook.mepp/clustermap_orientation_fwd.html\n",
      "HTML clustermap for orientation -: gata.scans.scored_by.hct116.vs.k562.log2fc.bw.cluster_deduplicated.slop_0.for_notebook.mepp/clustermap_orientation_rev.html\n"
     ]
    }
   ],
   "source": [
    "! tail {mepp_filepath}.log"
   ]
  },
  {
   "cell_type": "markdown",
   "id": "7c134deb-b20c-4902-9592-cd669c3d6e02",
   "metadata": {},
   "source": [
    "# Show links to MEPP HTML outputs\n",
    "MEPP outputs HTML files that are useful for visualizing and navigating your data"
   ]
  },
  {
   "cell_type": "code",
   "execution_count": 64,
   "id": "8e8c4ed5-2b5c-4286-9d9c-694dbf51c729",
   "metadata": {},
   "outputs": [],
   "source": [
    "from IPython.display import display, Markdown"
   ]
  },
  {
   "cell_type": "code",
   "execution_count": 65,
   "id": "97b6c767-f456-4775-9841-e7d9d31a704a",
   "metadata": {},
   "outputs": [],
   "source": [
    "\n",
    "mepp_results_table_fwd_md = f'[Results table, + orientation]({mepp_filepath}/results_table_orientation_fwd.html)'\n",
    "mepp_clustermap_fwd_md = f'[Clustermap, + orientation]({mepp_filepath}/clustermap_orientation_fwd.html)'\n",
    "\n",
    "mepp_results_table_rev_md = f'[Results table, - orientation]({mepp_filepath}/results_table_orientation_rev.html)'\n",
    "mepp_clustermap_rev_md = f'[Clustermap, - orientation]({mepp_filepath}/clustermap_orientation_rev.html)'"
   ]
  },
  {
   "cell_type": "code",
   "execution_count": 66,
   "id": "09de2913-e7c7-4ad3-aafe-a4287b7778e9",
   "metadata": {},
   "outputs": [
    {
     "data": {
      "text/markdown": [
       "[Results table, + orientation](gata.scans.scored_by.hct116.vs.k562.log2fc.bw.cluster_deduplicated.slop_0.for_notebook.mepp/results_table_orientation_fwd.html)"
      ],
      "text/plain": [
       "<IPython.core.display.Markdown object>"
      ]
     },
     "metadata": {},
     "output_type": "display_data"
    },
    {
     "data": {
      "text/markdown": [
       "[Clustermap, + orientation](gata.scans.scored_by.hct116.vs.k562.log2fc.bw.cluster_deduplicated.slop_0.for_notebook.mepp/clustermap_orientation_fwd.html)"
      ],
      "text/plain": [
       "<IPython.core.display.Markdown object>"
      ]
     },
     "metadata": {},
     "output_type": "display_data"
    },
    {
     "data": {
      "text/markdown": [
       "[Results table, - orientation](gata.scans.scored_by.hct116.vs.k562.log2fc.bw.cluster_deduplicated.slop_0.for_notebook.mepp/results_table_orientation_rev.html)"
      ],
      "text/plain": [
       "<IPython.core.display.Markdown object>"
      ]
     },
     "metadata": {},
     "output_type": "display_data"
    },
    {
     "data": {
      "text/markdown": [
       "[Clustermap, - orientation](gata.scans.scored_by.hct116.vs.k562.log2fc.bw.cluster_deduplicated.slop_0.for_notebook.mepp/clustermap_orientation_rev.html)"
      ],
      "text/plain": [
       "<IPython.core.display.Markdown object>"
      ]
     },
     "metadata": {},
     "output_type": "display_data"
    }
   ],
   "source": [
    "display(Markdown(mepp_results_table_fwd_md))\n",
    "display(Markdown(mepp_clustermap_fwd_md))\n",
    "display(Markdown(mepp_results_table_rev_md))\n",
    "display(Markdown(mepp_clustermap_rev_md))"
   ]
  },
  {
   "cell_type": "markdown",
   "id": "3520bfd9-dad1-4c1e-bd21-ae1782d4616e",
   "metadata": {},
   "source": [
    "# Example commands for set-based analysis with CentriMo\n",
    "Threshold top and bottom 10% of scored sequences, then use these as positive/negative inputs to set-based MEA, e.g. CentriMo"
   ]
  },
  {
   "cell_type": "code",
   "execution_count": 67,
   "id": "06ca5cd4-a2ef-4b7e-863c-0002b9b6f2ec",
   "metadata": {},
   "outputs": [],
   "source": [
    "percent = 10\n",
    "lower_percent = percent\n",
    "higher_percent = 100.0-percent\n",
    "lower_thresh, upper_thresh = list(np.percentile(bed_df['Score'], [lower_percent, higher_percent]))"
   ]
  },
  {
   "cell_type": "code",
   "execution_count": 68,
   "id": "3c3d05bf-97ed-49fc-97ad-3fb8231d7819",
   "metadata": {},
   "outputs": [],
   "source": [
    "upper_slopped_cluster_deduplicated_scored_motif_scans_filepath = cluster_deduplicated_scored_motif_scans_filepath[:-len('.bed')]+'.upper.bed'\n",
    "lower_slopped_cluster_deduplicated_scored_motif_scans_filepath = cluster_deduplicated_scored_motif_scans_filepath[:-len('.bed')]+'.lower.bed'\n",
    "\n",
    "upper_slopped_cluster_deduplicated_scored_motif_scans_fa_filepath = cluster_deduplicated_scored_motif_scans_filepath[:-len('.bed')]+'.upper.fa'\n",
    "lower_slopped_cluster_deduplicated_scored_motif_scans_fa_filepath = cluster_deduplicated_scored_motif_scans_filepath[:-len('.bed')]+'.lower.fa'"
   ]
  },
  {
   "cell_type": "code",
   "execution_count": 69,
   "id": "6ba03c8f-024f-4ab4-980d-d23f099617b2",
   "metadata": {},
   "outputs": [],
   "source": [
    "upper_bed_df = bed_df[bed_df['Score']>=upper_thresh].copy()\n",
    "lower_bed_df = bed_df[bed_df['Score']<=lower_thresh].copy()"
   ]
  },
  {
   "cell_type": "code",
   "execution_count": 70,
   "id": "1dc22f20-6358-47a9-957b-6c19ac807024",
   "metadata": {},
   "outputs": [
    {
     "name": "stdout",
     "output_type": "stream",
     "text": [
      "chr1\t2768240\t2768440\tGata1(Zf)\t2.062406\t-\n",
      "chr1\t2975991\t2976191\tGata1(Zf)\t1.317635\t+\n",
      "chr1\t3068900\t3069100\tGata1(Zf)\t5.008648\t+\n",
      "chr1\t3136583\t3136783\tGata1(Zf)\t1.676491\t-\n",
      "chr1\t3320610\t3320810\tGata1(Zf)\t4.444686\t+\n",
      "chr1\t3338527\t3338727\tGata1(Zf)\t2.035219\t+\n",
      "chr1\t3613498\t3613698\tGata1(Zf)\t2.775806\t-\n",
      "chr1\t4514654\t4514854\tGata1(Zf)\t2.017347\t-\n",
      "chr1\t4514878\t4515078\tGata1(Zf)\t2.082657\t+\n",
      "chr1\t4756973\t4757173\tGata1(Zf)\t1.206943\t+\n"
     ]
    }
   ],
   "source": [
    "upper_bed_df.to_csv(upper_slopped_cluster_deduplicated_scored_motif_scans_filepath, sep = '\\t', index = False, header = None)\n",
    "! head {upper_slopped_cluster_deduplicated_scored_motif_scans_filepath}"
   ]
  },
  {
   "cell_type": "code",
   "execution_count": 71,
   "id": "e1a6e51d-e799-4026-ac52-8bf15e3a02cd",
   "metadata": {},
   "outputs": [
    {
     "name": "stdout",
     "output_type": "stream",
     "text": [
      "chr1\t796048\t796248\tGata1(Zf)\t-2.782733\t+\n",
      "chr1\t831715\t831915\tGata1(Zf)\t-3.581281\t-\n",
      "chr1\t842880\t843080\tGata1(Zf)\t-5.297722\t+\n",
      "chr1\t1005019\t1005219\tGata1(Zf)\t-2.568964\t-\n",
      "chr1\t1062591\t1062791\tGata1(Zf)\t-3.538543\t+\n",
      "chr1\t1185582\t1185782\tGata1(Zf)\t-4.176309\t-\n",
      "chr1\t2104986\t2105186\tGata1(Zf)\t-2.333475\t-\n",
      "chr1\t2233029\t2233229\tGata1(Zf)\t-3.856457\t+\n",
      "chr1\t2258765\t2258965\tGata1(Zf)\t-2.49223\t-\n",
      "chr1\t2557016\t2557216\tGata1(Zf)\t-2.430786\t+\n"
     ]
    }
   ],
   "source": [
    "lower_bed_df.to_csv(lower_slopped_cluster_deduplicated_scored_motif_scans_filepath, sep = '\\t', index = False, header = None)\n",
    "! head {lower_slopped_cluster_deduplicated_scored_motif_scans_filepath}"
   ]
  },
  {
   "cell_type": "code",
   "execution_count": 72,
   "id": "736ac51c-043a-4a75-bf19-3511e3479617",
   "metadata": {},
   "outputs": [],
   "source": [
    "upper_fa_cmd = ( f'python -m mepp.get_scored_fasta -fi {genome_fa_filepath} '\n",
    "    f'-bed {upper_slopped_cluster_deduplicated_scored_motif_scans_filepath} '\n",
    "    f'> {upper_slopped_cluster_deduplicated_scored_motif_scans_fa_filepath}'\n",
    ")\n",
    "\n",
    "lower_fa_cmd = ( f'python -m mepp.get_scored_fasta -fi {genome_fa_filepath} '\n",
    "    f'-bed {lower_slopped_cluster_deduplicated_scored_motif_scans_filepath} '\n",
    "    f'> {lower_slopped_cluster_deduplicated_scored_motif_scans_fa_filepath}'\n",
    ")"
   ]
  },
  {
   "cell_type": "code",
   "execution_count": 73,
   "id": "f7ad5710-326b-43a8-b5d8-8406aedcb4e2",
   "metadata": {},
   "outputs": [
    {
     "name": "stdout",
     "output_type": "stream",
     "text": [
      "python -m mepp.get_scored_fasta -fi hg38.fa -bed gata.scans.scored_by.hct116.vs.k562.log2fc.bw.cluster_deduplicated.upper.bed > gata.scans.scored_by.hct116.vs.k562.log2fc.bw.cluster_deduplicated.upper.fa\n",
      "/home/provnpd0/miniconda3/envs/mepp_walkthrough/lib/python3.9/runpy.py:127: RuntimeWarning: 'mepp.get_scored_fasta' found in sys.modules after import of package 'mepp', but prior to execution of 'mepp.get_scored_fasta'; this may result in unpredictable behaviour\n",
      "  warn(RuntimeWarning(msg))\n",
      "python -m mepp.get_scored_fasta -fi hg38.fa -bed gata.scans.scored_by.hct116.vs.k562.log2fc.bw.cluster_deduplicated.lower.bed > gata.scans.scored_by.hct116.vs.k562.log2fc.bw.cluster_deduplicated.lower.fa\n",
      "/home/provnpd0/miniconda3/envs/mepp_walkthrough/lib/python3.9/runpy.py:127: RuntimeWarning: 'mepp.get_scored_fasta' found in sys.modules after import of package 'mepp', but prior to execution of 'mepp.get_scored_fasta'; this may result in unpredictable behaviour\n",
      "  warn(RuntimeWarning(msg))\n",
      "CPU times: user 853 ms, sys: 181 ms, total: 1.03 s\n",
      "Wall time: 1min 8s\n"
     ]
    }
   ],
   "source": [
    "%%time\n",
    "\n",
    "run_thresh_fa_cmds = run_cmd = True\n",
    "for cmd in [upper_fa_cmd, lower_fa_cmd]:\n",
    "    print(cmd)\n",
    "    if run_cmd:\n",
    "        ! {cmd}"
   ]
  },
  {
   "cell_type": "code",
   "execution_count": 74,
   "id": "afa2bedc-d1bb-4632-bde7-092a0b61cf3a",
   "metadata": {},
   "outputs": [
    {
     "data": {
      "text/plain": [
       "(13570, 6)"
      ]
     },
     "execution_count": 74,
     "metadata": {},
     "output_type": "execute_result"
    }
   ],
   "source": [
    "upper_bed_df.shape"
   ]
  },
  {
   "cell_type": "code",
   "execution_count": 75,
   "id": "7cbc6564-4194-4f13-b491-6f0cd11f85ac",
   "metadata": {},
   "outputs": [
    {
     "data": {
      "text/plain": [
       "(13570, 6)"
      ]
     },
     "execution_count": 75,
     "metadata": {},
     "output_type": "execute_result"
    }
   ],
   "source": [
    "lower_bed_df.shape"
   ]
  },
  {
   "cell_type": "markdown",
   "id": "67b8c8dd-a706-4b3d-8262-8fe392afacaa",
   "metadata": {},
   "source": [
    "# Example equivalent Centrimo command"
   ]
  },
  {
   "cell_type": "code",
   "execution_count": 76,
   "id": "52d98bb6-21e5-44b3-a42d-36b7ed4f84fb",
   "metadata": {},
   "outputs": [
    {
     "name": "stdout",
     "output_type": "stream",
     "text": [
      "mkdir -p gata.scans.scored_by.hct116.vs.k562.log2fc.bw.cluster_deduplicated.slop_0.for_notebook.upper_vs_lower.for_notebook.centrimo ;$(which time) --verbose centrimo --oc gata.scans.scored_by.hct116.vs.k562.log2fc.bw.cluster_deduplicated.slop_0.for_notebook.upper_vs_lower.for_notebook.centrimo --neg gata.scans.scored_by.hct116.vs.k562.log2fc.bw.cluster_deduplicated.lower.fa --norc --sep --local --noseq gata.scans.scored_by.hct116.vs.k562.log2fc.bw.cluster_deduplicated.upper.fa homer.motifs.id_fixed.meme\n"
     ]
    }
   ],
   "source": [
    "meme_motifs_filepath = 'homer.motifs.id_fixed.meme'\n",
    "centrimo_filepath = mepp_filepath[:-len('.mepp')]+f'.upper_vs_lower.for_notebook.centrimo'\n",
    "centrimo_cmd = (\n",
    "    f'mkdir -p {centrimo_filepath} ;'\n",
    "    f'$(which time) --verbose '\n",
    "    f'centrimo --oc {centrimo_filepath} '\n",
    "    f'--neg {lower_slopped_cluster_deduplicated_scored_motif_scans_fa_filepath} '\n",
    "    f'--norc --sep --local --noseq '\n",
    "    f'{upper_slopped_cluster_deduplicated_scored_motif_scans_fa_filepath} '\n",
    "    f'{meme_motifs_filepath}'\n",
    ")\n",
    "print(centrimo_cmd)"
   ]
  }
 ],
 "metadata": {
  "kernelspec": {
   "display_name": "Python [conda env:mepp_walkthrough]",
   "language": "python",
   "name": "conda-env-mepp_walkthrough-py"
  },
  "language_info": {
   "codemirror_mode": {
    "name": "ipython",
    "version": 3
   },
   "file_extension": ".py",
   "mimetype": "text/x-python",
   "name": "python",
   "nbconvert_exporter": "python",
   "pygments_lexer": "ipython3",
   "version": "3.9.9"
  }
 },
 "nbformat": 4,
 "nbformat_minor": 5
}
